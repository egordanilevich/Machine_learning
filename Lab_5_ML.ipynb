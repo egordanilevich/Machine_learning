{
 "cells": [
  {
   "cell_type": "markdown",
   "metadata": {
    "id": "2ClFi4LS0wEM"
   },
   "source": [
    "## Лабораторная работа - Работа с текстом\n",
    "\n",
    "Лабораторная работа посвящена работе с текстом и классификации. Мы будем классифицировать твиты о коронавирусе. Скачать данные из папки data."
   ]
  },
  {
   "cell_type": "code",
   "execution_count": 9,
   "metadata": {
    "id": "SJlas-5U0wEN"
   },
   "outputs": [],
   "source": [
    "import pandas as pd"
   ]
  },
  {
   "cell_type": "code",
   "execution_count": 10,
   "metadata": {
    "colab": {
     "base_uri": "https://localhost:8080/",
     "height": 261
    },
    "id": "plaISjt20wEO",
    "outputId": "af897080-2f4f-4b5b-c250-68c7ffc69a6a"
   },
   "outputs": [
    {
     "name": "stdout",
     "output_type": "stream",
     "text": [
      "(41157, 6)\n"
     ]
    },
    {
     "name": "stderr",
     "output_type": "stream",
     "text": [
      "C:\\Users\\Egor\\AppData\\Local\\Temp\\ipykernel_12852\\3026756199.py:1: UserWarning: Parsing dates in DD/MM/YYYY format when dayfirst=False (the default) was specified. This may lead to inconsistently parsed dates! Specify a format to ensure consistent parsing.\n",
      "  df = pd.read_csv('coronavirus_tweets_with_labels.csv', encoding='ISO-8859-1', parse_dates=['TweetAt'])\n"
     ]
    },
    {
     "data": {
      "text/html": [
       "<div>\n",
       "<style scoped>\n",
       "    .dataframe tbody tr th:only-of-type {\n",
       "        vertical-align: middle;\n",
       "    }\n",
       "\n",
       "    .dataframe tbody tr th {\n",
       "        vertical-align: top;\n",
       "    }\n",
       "\n",
       "    .dataframe thead th {\n",
       "        text-align: right;\n",
       "    }\n",
       "</style>\n",
       "<table border=\"1\" class=\"dataframe\">\n",
       "  <thead>\n",
       "    <tr style=\"text-align: right;\">\n",
       "      <th></th>\n",
       "      <th>UserName</th>\n",
       "      <th>ScreenName</th>\n",
       "      <th>Location</th>\n",
       "      <th>TweetAt</th>\n",
       "      <th>OriginalTweet</th>\n",
       "      <th>Sentiment</th>\n",
       "    </tr>\n",
       "  </thead>\n",
       "  <tbody>\n",
       "    <tr>\n",
       "      <th>0</th>\n",
       "      <td>3799</td>\n",
       "      <td>48751</td>\n",
       "      <td>London</td>\n",
       "      <td>2020-03-16</td>\n",
       "      <td>@MeNyrbie @Phil_Gahan @Chrisitv https://t.co/i...</td>\n",
       "      <td>Neutral</td>\n",
       "    </tr>\n",
       "    <tr>\n",
       "      <th>1</th>\n",
       "      <td>3800</td>\n",
       "      <td>48752</td>\n",
       "      <td>UK</td>\n",
       "      <td>2020-03-16</td>\n",
       "      <td>advice Talk to your neighbours family to excha...</td>\n",
       "      <td>Positive</td>\n",
       "    </tr>\n",
       "    <tr>\n",
       "      <th>2</th>\n",
       "      <td>3801</td>\n",
       "      <td>48753</td>\n",
       "      <td>Vagabonds</td>\n",
       "      <td>2020-03-16</td>\n",
       "      <td>Coronavirus Australia: Woolworths to give elde...</td>\n",
       "      <td>Positive</td>\n",
       "    </tr>\n",
       "    <tr>\n",
       "      <th>3</th>\n",
       "      <td>3802</td>\n",
       "      <td>48754</td>\n",
       "      <td>NaN</td>\n",
       "      <td>2020-03-16</td>\n",
       "      <td>My food stock is not the only one which is emp...</td>\n",
       "      <td>Positive</td>\n",
       "    </tr>\n",
       "    <tr>\n",
       "      <th>4</th>\n",
       "      <td>3803</td>\n",
       "      <td>48755</td>\n",
       "      <td>NaN</td>\n",
       "      <td>2020-03-16</td>\n",
       "      <td>Me, ready to go at supermarket during the #COV...</td>\n",
       "      <td>Extremely Negative</td>\n",
       "    </tr>\n",
       "  </tbody>\n",
       "</table>\n",
       "</div>"
      ],
      "text/plain": [
       "   UserName  ScreenName   Location    TweetAt  \\\n",
       "0      3799       48751     London 2020-03-16   \n",
       "1      3800       48752         UK 2020-03-16   \n",
       "2      3801       48753  Vagabonds 2020-03-16   \n",
       "3      3802       48754        NaN 2020-03-16   \n",
       "4      3803       48755        NaN 2020-03-16   \n",
       "\n",
       "                                       OriginalTweet           Sentiment  \n",
       "0  @MeNyrbie @Phil_Gahan @Chrisitv https://t.co/i...             Neutral  \n",
       "1  advice Talk to your neighbours family to excha...            Positive  \n",
       "2  Coronavirus Australia: Woolworths to give elde...            Positive  \n",
       "3  My food stock is not the only one which is emp...            Positive  \n",
       "4  Me, ready to go at supermarket during the #COV...  Extremely Negative  "
      ]
     },
     "execution_count": 10,
     "metadata": {},
     "output_type": "execute_result"
    }
   ],
   "source": [
    "df = pd.read_csv('coronavirus_tweets_with_labels.csv', encoding='ISO-8859-1', parse_dates=['TweetAt'])\n",
    "print(df.shape)\n",
    "df.head()"
   ]
  },
  {
   "cell_type": "markdown",
   "metadata": {
    "id": "OkiFTS3c0wEP"
   },
   "source": [
    "**Задание 1.**\n",
    "\n",
    "Сделайте 3 группы в целевой переменной: `Extremely Positive` отметьте как `Positive`, а `Extremely Negative` – `Negative`. Сколько наблюдений в каждом классе? Закодируйте их в числовом виде простым LabelEncoding'ом."
   ]
  },
  {
   "cell_type": "code",
   "execution_count": 11,
   "metadata": {
    "colab": {
     "base_uri": "https://localhost:8080/"
    },
    "id": "7YMJRpah0wEP",
    "outputId": "15241d03-fe82-4875-d874-2233acb09905"
   },
   "outputs": [
    {
     "name": "stdout",
     "output_type": "stream",
     "text": [
      "Количество наблюдений в каждом классе:\n",
      "Positive    18046\n",
      "Negative    15398\n",
      "Neutral      7713\n",
      "Name: Sentiment, dtype: int64\n",
      "  Sentiment  SentimentEncoded\n",
      "0   Neutral                 1\n",
      "1  Positive                 2\n",
      "2  Positive                 2\n",
      "3  Positive                 2\n",
      "4  Negative                 0\n"
     ]
    }
   ],
   "source": [
    "from sklearn.preprocessing import LabelEncoder\n",
    "\n",
    "# Преобразование классов\n",
    "df['Sentiment'] = df['Sentiment'].replace({'Extremely Positive': 'Positive', 'Extremely Negative': 'Negative'})\n",
    "\n",
    "# Подсчёт наблюдений в каждом классе\n",
    "class_counts = df['Sentiment'].value_counts()\n",
    "print(\"Количество наблюдений в каждом классе:\")\n",
    "print(class_counts)\n",
    "\n",
    "# Кодирование классов\n",
    "label_encoder = LabelEncoder()\n",
    "df['SentimentEncoded'] = label_encoder.fit_transform(df['Sentiment'])\n",
    "\n",
    "# Вывод первых нескольких строк для проверки\n",
    "print(df[['Sentiment', 'SentimentEncoded']].head())"
   ]
  },
  {
   "cell_type": "markdown",
   "metadata": {
    "id": "YXrllHsT0wEP"
   },
   "source": [
    "**Задание 2.**\n",
    "\n",
    "Добавьте колонку с месяцем твита. Нарисуйте barchart, где по оси Х – месяц, по оси Y – количество твитов в этом месяце."
   ]
  },
  {
   "cell_type": "code",
   "execution_count": 12,
   "metadata": {
    "colab": {
     "base_uri": "https://localhost:8080/",
     "height": 564
    },
    "id": "tFJS67db0wEP",
    "outputId": "b7ca1c7b-0d41-4d00-cabd-7fe32edf21a3"
   },
   "outputs": [
    {
     "data": {
      "image/png": "[encoded data removed]",
      "text/plain": [
       "<Figure size 1000x600 with 1 Axes>"
      ]
     },
     "metadata": {},
     "output_type": "display_data"
    }
   ],
   "source": [
    "import matplotlib.pyplot as plt\n",
    "\n",
    "# Добавление колонки с месяцем\n",
    "df['Month'] = df['TweetAt'].dt.month\n",
    "\n",
    "# Подсчёт количества твитов по месяцам\n",
    "tweets_per_month = df['Month'].value_counts().sort_index()\n",
    "\n",
    "# Построение столбчатой диаграммы\n",
    "plt.figure(figsize=(10, 6))\n",
    "tweets_per_month.plot(kind='bar', color='skyblue')\n",
    "plt.title('Количество твитов по месяцам')\n",
    "plt.xlabel('Месяц')\n",
    "plt.ylabel('Количество твитов')\n",
    "plt.xticks(ticks=range(len(tweets_per_month)), labels=tweets_per_month.index, rotation=0)\n",
    "plt.grid(axis='y', linestyle='--', alpha=0.7)\n",
    "plt.show()\n"
   ]
  },
  {
   "cell_type": "markdown",
   "metadata": {
    "id": "9jthXO5K0wEQ"
   },
   "source": [
    "**Задание 3.**\n",
    "\n",
    "Очистим твиты. Удалите ссылки, пунктуацию, теги, которые начинаются с @ и #."
   ]
  },
  {
   "cell_type": "code",
   "execution_count": 13,
   "metadata": {
    "colab": {
     "base_uri": "https://localhost:8080/"
    },
    "id": "-zht_Z3K0wEQ",
    "outputId": "dce6884a-77fd-48c1-d968-c9ab23c6cb4e"
   },
   "outputs": [
    {
     "name": "stdout",
     "output_type": "stream",
     "text": [
      "                                       OriginalTweet  \\\n",
      "0  @MeNyrbie @Phil_Gahan @Chrisitv https://t.co/i...   \n",
      "1  advice Talk to your neighbours family to excha...   \n",
      "2  Coronavirus Australia: Woolworths to give elde...   \n",
      "3  My food stock is not the only one which is emp...   \n",
      "4  Me, ready to go at supermarket during the #COV...   \n",
      "\n",
      "                                         CleanedText  \n",
      "0                                           and  and  \n",
      "1  advice Talk to your neighbours family to excha...  \n",
      "2  Coronavirus Australia Woolworths to give elder...  \n",
      "3  My food stock is not the only one which is emp...  \n",
      "4  Me ready to go at supermarket during the  outb...  \n"
     ]
    }
   ],
   "source": [
    "import re\n",
    "\n",
    "def clean_tweet(text):\n",
    "    # Удаление ссылок\n",
    "    text = re.sub(r'http\\S+|www\\S+|https\\S+', '', text, flags=re.MULTILINE)\n",
    "    # Удаление тегов, начинающихся с @ и #\n",
    "    text = re.sub(r'@\\w+|#\\w+', '', text)\n",
    "    # Удаление пунктуации\n",
    "    text = re.sub(r'[^\\w\\s]', '', text)\n",
    "    # Удаление лишних пробелов\n",
    "    text = text.strip()\n",
    "    return text\n",
    "\n",
    "# Применение функции очистки к каждому твиту\n",
    "df['CleanedText'] = df['OriginalTweet'].apply(clean_tweet)\n",
    "\n",
    "# Вывод первых нескольких строк для проверки\n",
    "print(df[['OriginalTweet', 'CleanedText']].head())\n"
   ]
  },
  {
   "cell_type": "markdown",
   "metadata": {
    "id": "BegiUGln0wEQ"
   },
   "source": [
    "**Задание 4.**\n",
    "\n",
    "Токенизируйте тексты твитов с помощью `word_tokenize()` из библиотеки `nltk`. Лемматизируйте с помощью `WordNetLemmatizer()` из той же библиотеки."
   ]
  },
  {
   "cell_type": "code",
   "execution_count": 14,
   "metadata": {
    "colab": {
     "base_uri": "https://localhost:8080/"
    },
    "id": "5BMvxavK2rQI",
    "outputId": "491ec080-b831-4623-de68-7832b01772ae"
   },
   "outputs": [
    {
     "name": "stderr",
     "output_type": "stream",
     "text": [
      "[nltk_data] Downloading package punkt_tab to\n",
      "[nltk_data]     C:\\Users\\Egor\\AppData\\Roaming\\nltk_data...\n",
      "[nltk_data]   Package punkt_tab is already up-to-date!\n",
      "[nltk_data] Error loading punkt-tab: Package 'punkt-tab' not found in\n",
      "[nltk_data]     index\n",
      "[nltk_data] Downloading package wordnet to /root/nltk_data...\n",
      "[nltk_data] Downloading package omw-1.4 to /root/nltk_data...\n"
     ]
    },
    {
     "data": {
      "text/plain": [
       "True"
      ]
     },
     "execution_count": 14,
     "metadata": {},
     "output_type": "execute_result"
    }
   ],
   "source": [
    "import nltk\n",
    "nltk.download('punkt_tab')\n",
    "# Укажите правильный путь для данных\n",
    "nltk.data.path.append('/root/nltk_data')\n",
    "\n",
    "# Загрузка необходимых ресурсов\n",
    "nltk.download('punkt-tab', download_dir='/root/nltk_data')\n",
    "nltk.download('wordnet', download_dir='/root/nltk_data')\n",
    "nltk.download('omw-1.4', download_dir='/root/nltk_data')\n"
   ]
  },
  {
   "cell_type": "code",
   "execution_count": null,
   "metadata": {
    "id": "g3iMQs9b0wEQ"
   },
   "outputs": [],
   "source": []
  },
  {
   "cell_type": "code",
   "execution_count": 15,
   "metadata": {
    "colab": {
     "base_uri": "https://localhost:8080/"
    },
    "id": "z_-YKqYP3Cxh",
    "outputId": "59424158-e991-4787-b0ff-efe55a6e95b4"
   },
   "outputs": [
    {
     "ename": "LookupError",
     "evalue": "\n**********************************************************************\n  Resource \u001b[93mpunkt\u001b[0m not found.\n  Please use the NLTK Downloader to obtain the resource:\n\n  \u001b[31m>>> import nltk\n  >>> nltk.download('punkt')\n  \u001b[0m\n  For more information see: https://www.nltk.org/data.html\n\n  Attempted to load \u001b[93mtokenizers/punkt/english.pickle\u001b[0m\n\n  Searched in:\n    - 'C:\\\\Users\\\\Egor/nltk_data'\n    - 'C:\\\\Users\\\\Egor\\\\anaconda3\\\\nltk_data'\n    - 'C:\\\\Users\\\\Egor\\\\anaconda3\\\\share\\\\nltk_data'\n    - 'C:\\\\Users\\\\Egor\\\\anaconda3\\\\lib\\\\nltk_data'\n    - 'C:\\\\Users\\\\Egor\\\\AppData\\\\Roaming\\\\nltk_data'\n    - 'C:\\\\nltk_data'\n    - 'D:\\\\nltk_data'\n    - 'E:\\\\nltk_data'\n    - '/root/nltk_data'\n    - '/root/nltk_data'\n    - '/root/nltk_data'\n    - ''\n**********************************************************************\n",
     "output_type": "error",
     "traceback": [
      "\u001b[1;31m---------------------------------------------------------------------------\u001b[0m",
      "\u001b[1;31mLookupError\u001b[0m                               Traceback (most recent call last)",
      "Cell \u001b[1;32mIn[15], line 15\u001b[0m\n\u001b[0;32m     12\u001b[0m     \u001b[38;5;28;01mreturn\u001b[39;00m lemmatized_tokens\n\u001b[0;32m     14\u001b[0m \u001b[38;5;66;03m# Применение токенизации и лемматизации к очищенным твитам\u001b[39;00m\n\u001b[1;32m---> 15\u001b[0m df[\u001b[38;5;124m'\u001b[39m\u001b[38;5;124mTokenizedLemmatized\u001b[39m\u001b[38;5;124m'\u001b[39m] \u001b[38;5;241m=\u001b[39m df[\u001b[38;5;124m'\u001b[39m\u001b[38;5;124mCleanedText\u001b[39m\u001b[38;5;124m'\u001b[39m]\u001b[38;5;241m.\u001b[39mapply(tokenize_and_lemmatize)\n\u001b[0;32m     17\u001b[0m \u001b[38;5;66;03m# Вывод первых нескольких строк для проверки\u001b[39;00m\n\u001b[0;32m     18\u001b[0m \u001b[38;5;28mprint\u001b[39m(df[[\u001b[38;5;124m'\u001b[39m\u001b[38;5;124mCleanedText\u001b[39m\u001b[38;5;124m'\u001b[39m, \u001b[38;5;124m'\u001b[39m\u001b[38;5;124mTokenizedLemmatized\u001b[39m\u001b[38;5;124m'\u001b[39m]]\u001b[38;5;241m.\u001b[39mhead())\n",
      "File \u001b[1;32m~\\anaconda3\\Lib\\site-packages\\pandas\\core\\series.py:4771\u001b[0m, in \u001b[0;36mSeries.apply\u001b[1;34m(self, func, convert_dtype, args, **kwargs)\u001b[0m\n\u001b[0;32m   4661\u001b[0m \u001b[38;5;28;01mdef\u001b[39;00m \u001b[38;5;21mapply\u001b[39m(\n\u001b[0;32m   4662\u001b[0m     \u001b[38;5;28mself\u001b[39m,\n\u001b[0;32m   4663\u001b[0m     func: AggFuncType,\n\u001b[1;32m   (...)\u001b[0m\n\u001b[0;32m   4666\u001b[0m     \u001b[38;5;241m*\u001b[39m\u001b[38;5;241m*\u001b[39mkwargs,\n\u001b[0;32m   4667\u001b[0m ) \u001b[38;5;241m-\u001b[39m\u001b[38;5;241m>\u001b[39m DataFrame \u001b[38;5;241m|\u001b[39m Series:\n\u001b[0;32m   4668\u001b[0m \u001b[38;5;250m    \u001b[39m\u001b[38;5;124;03m\"\"\"\u001b[39;00m\n\u001b[0;32m   4669\u001b[0m \u001b[38;5;124;03m    Invoke function on values of Series.\u001b[39;00m\n\u001b[0;32m   4670\u001b[0m \n\u001b[1;32m   (...)\u001b[0m\n\u001b[0;32m   4769\u001b[0m \u001b[38;5;124;03m    dtype: float64\u001b[39;00m\n\u001b[0;32m   4770\u001b[0m \u001b[38;5;124;03m    \"\"\"\u001b[39;00m\n\u001b[1;32m-> 4771\u001b[0m     \u001b[38;5;28;01mreturn\u001b[39;00m SeriesApply(\u001b[38;5;28mself\u001b[39m, func, convert_dtype, args, kwargs)\u001b[38;5;241m.\u001b[39mapply()\n",
      "File \u001b[1;32m~\\anaconda3\\Lib\\site-packages\\pandas\\core\\apply.py:1123\u001b[0m, in \u001b[0;36mSeriesApply.apply\u001b[1;34m(self)\u001b[0m\n\u001b[0;32m   1120\u001b[0m     \u001b[38;5;28;01mreturn\u001b[39;00m \u001b[38;5;28mself\u001b[39m\u001b[38;5;241m.\u001b[39mapply_str()\n\u001b[0;32m   1122\u001b[0m \u001b[38;5;66;03m# self.f is Callable\u001b[39;00m\n\u001b[1;32m-> 1123\u001b[0m \u001b[38;5;28;01mreturn\u001b[39;00m \u001b[38;5;28mself\u001b[39m\u001b[38;5;241m.\u001b[39mapply_standard()\n",
      "File \u001b[1;32m~\\anaconda3\\Lib\\site-packages\\pandas\\core\\apply.py:1174\u001b[0m, in \u001b[0;36mSeriesApply.apply_standard\u001b[1;34m(self)\u001b[0m\n\u001b[0;32m   1172\u001b[0m     \u001b[38;5;28;01melse\u001b[39;00m:\n\u001b[0;32m   1173\u001b[0m         values \u001b[38;5;241m=\u001b[39m obj\u001b[38;5;241m.\u001b[39mastype(\u001b[38;5;28mobject\u001b[39m)\u001b[38;5;241m.\u001b[39m_values\n\u001b[1;32m-> 1174\u001b[0m         mapped \u001b[38;5;241m=\u001b[39m lib\u001b[38;5;241m.\u001b[39mmap_infer(\n\u001b[0;32m   1175\u001b[0m             values,\n\u001b[0;32m   1176\u001b[0m             f,\n\u001b[0;32m   1177\u001b[0m             convert\u001b[38;5;241m=\u001b[39m\u001b[38;5;28mself\u001b[39m\u001b[38;5;241m.\u001b[39mconvert_dtype,\n\u001b[0;32m   1178\u001b[0m         )\n\u001b[0;32m   1180\u001b[0m \u001b[38;5;28;01mif\u001b[39;00m \u001b[38;5;28mlen\u001b[39m(mapped) \u001b[38;5;129;01mand\u001b[39;00m \u001b[38;5;28misinstance\u001b[39m(mapped[\u001b[38;5;241m0\u001b[39m], ABCSeries):\n\u001b[0;32m   1181\u001b[0m     \u001b[38;5;66;03m# GH#43986 Need to do list(mapped) in order to get treated as nested\u001b[39;00m\n\u001b[0;32m   1182\u001b[0m     \u001b[38;5;66;03m#  See also GH#25959 regarding EA support\u001b[39;00m\n\u001b[0;32m   1183\u001b[0m     \u001b[38;5;28;01mreturn\u001b[39;00m obj\u001b[38;5;241m.\u001b[39m_constructor_expanddim(\u001b[38;5;28mlist\u001b[39m(mapped), index\u001b[38;5;241m=\u001b[39mobj\u001b[38;5;241m.\u001b[39mindex)\n",
      "File \u001b[1;32m~\\anaconda3\\Lib\\site-packages\\pandas\\_libs\\lib.pyx:2924\u001b[0m, in \u001b[0;36mpandas._libs.lib.map_infer\u001b[1;34m()\u001b[0m\n",
      "Cell \u001b[1;32mIn[15], line 9\u001b[0m, in \u001b[0;36mtokenize_and_lemmatize\u001b[1;34m(text)\u001b[0m\n\u001b[0;32m      7\u001b[0m \u001b[38;5;28;01mdef\u001b[39;00m \u001b[38;5;21mtokenize_and_lemmatize\u001b[39m(text):\n\u001b[0;32m      8\u001b[0m     \u001b[38;5;66;03m# Токенизация текста\u001b[39;00m\n\u001b[1;32m----> 9\u001b[0m     tokens \u001b[38;5;241m=\u001b[39m word_tokenize(text)\n\u001b[0;32m     10\u001b[0m     \u001b[38;5;66;03m# Лемматизация каждого токена\u001b[39;00m\n\u001b[0;32m     11\u001b[0m     lemmatized_tokens \u001b[38;5;241m=\u001b[39m [lemmatizer\u001b[38;5;241m.\u001b[39mlemmatize(token) \u001b[38;5;28;01mfor\u001b[39;00m token \u001b[38;5;129;01min\u001b[39;00m tokens]\n",
      "File \u001b[1;32m~\\anaconda3\\Lib\\site-packages\\nltk\\tokenize\\__init__.py:129\u001b[0m, in \u001b[0;36mword_tokenize\u001b[1;34m(text, language, preserve_line)\u001b[0m\n\u001b[0;32m    114\u001b[0m \u001b[38;5;28;01mdef\u001b[39;00m \u001b[38;5;21mword_tokenize\u001b[39m(text, language\u001b[38;5;241m=\u001b[39m\u001b[38;5;124m\"\u001b[39m\u001b[38;5;124menglish\u001b[39m\u001b[38;5;124m\"\u001b[39m, preserve_line\u001b[38;5;241m=\u001b[39m\u001b[38;5;28;01mFalse\u001b[39;00m):\n\u001b[0;32m    115\u001b[0m \u001b[38;5;250m    \u001b[39m\u001b[38;5;124;03m\"\"\"\u001b[39;00m\n\u001b[0;32m    116\u001b[0m \u001b[38;5;124;03m    Return a tokenized copy of *text*,\u001b[39;00m\n\u001b[0;32m    117\u001b[0m \u001b[38;5;124;03m    using NLTK's recommended word tokenizer\u001b[39;00m\n\u001b[1;32m   (...)\u001b[0m\n\u001b[0;32m    127\u001b[0m \u001b[38;5;124;03m    :type preserve_line: bool\u001b[39;00m\n\u001b[0;32m    128\u001b[0m \u001b[38;5;124;03m    \"\"\"\u001b[39;00m\n\u001b[1;32m--> 129\u001b[0m     sentences \u001b[38;5;241m=\u001b[39m [text] \u001b[38;5;28;01mif\u001b[39;00m preserve_line \u001b[38;5;28;01melse\u001b[39;00m sent_tokenize(text, language)\n\u001b[0;32m    130\u001b[0m     \u001b[38;5;28;01mreturn\u001b[39;00m [\n\u001b[0;32m    131\u001b[0m         token \u001b[38;5;28;01mfor\u001b[39;00m sent \u001b[38;5;129;01min\u001b[39;00m sentences \u001b[38;5;28;01mfor\u001b[39;00m token \u001b[38;5;129;01min\u001b[39;00m _treebank_word_tokenizer\u001b[38;5;241m.\u001b[39mtokenize(sent)\n\u001b[0;32m    132\u001b[0m     ]\n",
      "File \u001b[1;32m~\\anaconda3\\Lib\\site-packages\\nltk\\tokenize\\__init__.py:106\u001b[0m, in \u001b[0;36msent_tokenize\u001b[1;34m(text, language)\u001b[0m\n\u001b[0;32m     96\u001b[0m \u001b[38;5;28;01mdef\u001b[39;00m \u001b[38;5;21msent_tokenize\u001b[39m(text, language\u001b[38;5;241m=\u001b[39m\u001b[38;5;124m\"\u001b[39m\u001b[38;5;124menglish\u001b[39m\u001b[38;5;124m\"\u001b[39m):\n\u001b[0;32m     97\u001b[0m \u001b[38;5;250m    \u001b[39m\u001b[38;5;124;03m\"\"\"\u001b[39;00m\n\u001b[0;32m     98\u001b[0m \u001b[38;5;124;03m    Return a sentence-tokenized copy of *text*,\u001b[39;00m\n\u001b[0;32m     99\u001b[0m \u001b[38;5;124;03m    using NLTK's recommended sentence tokenizer\u001b[39;00m\n\u001b[1;32m   (...)\u001b[0m\n\u001b[0;32m    104\u001b[0m \u001b[38;5;124;03m    :param language: the model name in the Punkt corpus\u001b[39;00m\n\u001b[0;32m    105\u001b[0m \u001b[38;5;124;03m    \"\"\"\u001b[39;00m\n\u001b[1;32m--> 106\u001b[0m     tokenizer \u001b[38;5;241m=\u001b[39m load(\u001b[38;5;124mf\u001b[39m\u001b[38;5;124m\"\u001b[39m\u001b[38;5;124mtokenizers/punkt/\u001b[39m\u001b[38;5;132;01m{\u001b[39;00mlanguage\u001b[38;5;132;01m}\u001b[39;00m\u001b[38;5;124m.pickle\u001b[39m\u001b[38;5;124m\"\u001b[39m)\n\u001b[0;32m    107\u001b[0m     \u001b[38;5;28;01mreturn\u001b[39;00m tokenizer\u001b[38;5;241m.\u001b[39mtokenize(text)\n",
      "File \u001b[1;32m~\\anaconda3\\Lib\\site-packages\\nltk\\data.py:750\u001b[0m, in \u001b[0;36mload\u001b[1;34m(resource_url, format, cache, verbose, logic_parser, fstruct_reader, encoding)\u001b[0m\n\u001b[0;32m    747\u001b[0m     \u001b[38;5;28mprint\u001b[39m(\u001b[38;5;124mf\u001b[39m\u001b[38;5;124m\"\u001b[39m\u001b[38;5;124m<<Loading \u001b[39m\u001b[38;5;132;01m{\u001b[39;00mresource_url\u001b[38;5;132;01m}\u001b[39;00m\u001b[38;5;124m>>\u001b[39m\u001b[38;5;124m\"\u001b[39m)\n\u001b[0;32m    749\u001b[0m \u001b[38;5;66;03m# Load the resource.\u001b[39;00m\n\u001b[1;32m--> 750\u001b[0m opened_resource \u001b[38;5;241m=\u001b[39m _open(resource_url)\n\u001b[0;32m    752\u001b[0m \u001b[38;5;28;01mif\u001b[39;00m \u001b[38;5;28mformat\u001b[39m \u001b[38;5;241m==\u001b[39m \u001b[38;5;124m\"\u001b[39m\u001b[38;5;124mraw\u001b[39m\u001b[38;5;124m\"\u001b[39m:\n\u001b[0;32m    753\u001b[0m     resource_val \u001b[38;5;241m=\u001b[39m opened_resource\u001b[38;5;241m.\u001b[39mread()\n",
      "File \u001b[1;32m~\\anaconda3\\Lib\\site-packages\\nltk\\data.py:876\u001b[0m, in \u001b[0;36m_open\u001b[1;34m(resource_url)\u001b[0m\n\u001b[0;32m    873\u001b[0m protocol, path_ \u001b[38;5;241m=\u001b[39m split_resource_url(resource_url)\n\u001b[0;32m    875\u001b[0m \u001b[38;5;28;01mif\u001b[39;00m protocol \u001b[38;5;129;01mis\u001b[39;00m \u001b[38;5;28;01mNone\u001b[39;00m \u001b[38;5;129;01mor\u001b[39;00m protocol\u001b[38;5;241m.\u001b[39mlower() \u001b[38;5;241m==\u001b[39m \u001b[38;5;124m\"\u001b[39m\u001b[38;5;124mnltk\u001b[39m\u001b[38;5;124m\"\u001b[39m:\n\u001b[1;32m--> 876\u001b[0m     \u001b[38;5;28;01mreturn\u001b[39;00m find(path_, path \u001b[38;5;241m+\u001b[39m [\u001b[38;5;124m\"\u001b[39m\u001b[38;5;124m\"\u001b[39m])\u001b[38;5;241m.\u001b[39mopen()\n\u001b[0;32m    877\u001b[0m \u001b[38;5;28;01melif\u001b[39;00m protocol\u001b[38;5;241m.\u001b[39mlower() \u001b[38;5;241m==\u001b[39m \u001b[38;5;124m\"\u001b[39m\u001b[38;5;124mfile\u001b[39m\u001b[38;5;124m\"\u001b[39m:\n\u001b[0;32m    878\u001b[0m     \u001b[38;5;66;03m# urllib might not use mode='rb', so handle this one ourselves:\u001b[39;00m\n\u001b[0;32m    879\u001b[0m     \u001b[38;5;28;01mreturn\u001b[39;00m find(path_, [\u001b[38;5;124m\"\u001b[39m\u001b[38;5;124m\"\u001b[39m])\u001b[38;5;241m.\u001b[39mopen()\n",
      "File \u001b[1;32m~\\anaconda3\\Lib\\site-packages\\nltk\\data.py:583\u001b[0m, in \u001b[0;36mfind\u001b[1;34m(resource_name, paths)\u001b[0m\n\u001b[0;32m    581\u001b[0m sep \u001b[38;5;241m=\u001b[39m \u001b[38;5;124m\"\u001b[39m\u001b[38;5;124m*\u001b[39m\u001b[38;5;124m\"\u001b[39m \u001b[38;5;241m*\u001b[39m \u001b[38;5;241m70\u001b[39m\n\u001b[0;32m    582\u001b[0m resource_not_found \u001b[38;5;241m=\u001b[39m \u001b[38;5;124mf\u001b[39m\u001b[38;5;124m\"\u001b[39m\u001b[38;5;130;01m\\n\u001b[39;00m\u001b[38;5;132;01m{\u001b[39;00msep\u001b[38;5;132;01m}\u001b[39;00m\u001b[38;5;130;01m\\n\u001b[39;00m\u001b[38;5;132;01m{\u001b[39;00mmsg\u001b[38;5;132;01m}\u001b[39;00m\u001b[38;5;130;01m\\n\u001b[39;00m\u001b[38;5;132;01m{\u001b[39;00msep\u001b[38;5;132;01m}\u001b[39;00m\u001b[38;5;130;01m\\n\u001b[39;00m\u001b[38;5;124m\"\u001b[39m\n\u001b[1;32m--> 583\u001b[0m \u001b[38;5;28;01mraise\u001b[39;00m \u001b[38;5;167;01mLookupError\u001b[39;00m(resource_not_found)\n",
      "\u001b[1;31mLookupError\u001b[0m: \n**********************************************************************\n  Resource \u001b[93mpunkt\u001b[0m not found.\n  Please use the NLTK Downloader to obtain the resource:\n\n  \u001b[31m>>> import nltk\n  >>> nltk.download('punkt')\n  \u001b[0m\n  For more information see: https://www.nltk.org/data.html\n\n  Attempted to load \u001b[93mtokenizers/punkt/english.pickle\u001b[0m\n\n  Searched in:\n    - 'C:\\\\Users\\\\Egor/nltk_data'\n    - 'C:\\\\Users\\\\Egor\\\\anaconda3\\\\nltk_data'\n    - 'C:\\\\Users\\\\Egor\\\\anaconda3\\\\share\\\\nltk_data'\n    - 'C:\\\\Users\\\\Egor\\\\anaconda3\\\\lib\\\\nltk_data'\n    - 'C:\\\\Users\\\\Egor\\\\AppData\\\\Roaming\\\\nltk_data'\n    - 'C:\\\\nltk_data'\n    - 'D:\\\\nltk_data'\n    - 'E:\\\\nltk_data'\n    - '/root/nltk_data'\n    - '/root/nltk_data'\n    - '/root/nltk_data'\n    - ''\n**********************************************************************\n"
     ]
    }
   ],
   "source": [
    "from nltk.tokenize import word_tokenize\n",
    "from nltk.stem import WordNetLemmatizer\n",
    "\n",
    "# Создание экземпляра лемматайзера\n",
    "lemmatizer = WordNetLemmatizer()\n",
    "\n",
    "def tokenize_and_lemmatize(text):\n",
    "    # Токенизация текста\n",
    "    tokens = word_tokenize(text)\n",
    "    # Лемматизация каждого токена\n",
    "    lemmatized_tokens = [lemmatizer.lemmatize(token) for token in tokens]\n",
    "    return lemmatized_tokens\n",
    "\n",
    "# Применение токенизации и лемматизации к очищенным твитам\n",
    "df['TokenizedLemmatized'] = df['CleanedText'].apply(tokenize_and_lemmatize)\n",
    "\n",
    "# Вывод первых нескольких строк для проверки\n",
    "print(df[['CleanedText', 'TokenizedLemmatized']].head())\n"
   ]
  },
  {
   "cell_type": "markdown",
   "metadata": {
    "id": "16JeCILw0wEQ"
   },
   "source": [
    "**Задание 5.**\n",
    "\n",
    "Разделите данные на обучающую и тестовую выборку (используем только обработанные тексты твитов из прошлого задания и разметку) в соотношении 70 на 30."
   ]
  },
  {
   "cell_type": "code",
   "execution_count": null,
   "metadata": {
    "colab": {
     "base_uri": "https://localhost:8080/"
    },
    "id": "gGguFU_i0wEQ",
    "outputId": "13a326a4-919f-45ec-9ded-07fe5f2fba2f"
   },
   "outputs": [],
   "source": [
    "from sklearn.model_selection import train_test_split\n",
    "\n",
    "# Подготовка данных\n",
    "X = df['TokenizedLemmatized'].apply(lambda x: ' '.join(x))  # Преобразуем список токенов обратно в строку\n",
    "y = df['SentimentEncoded']  # Предполагается, что у вас есть закодированные метки классов\n",
    "\n",
    "# Разделение данных на обучающую и тестовую выборку\n",
    "X_train, X_test, y_train, y_test = train_test_split(X, y, test_size=0.3, random_state=42, stratify=y)\n",
    "\n",
    "# Проверка размеров выборок\n",
    "print(f\"Размер обучающей выборки: {X_train.shape[0]} образцов\")\n",
    "print(f\"Размер тестовой выборки: {X_test.shape[0]} образцов\")\n"
   ]
  },
  {
   "cell_type": "markdown",
   "metadata": {
    "id": "U6IDZdG70wEQ"
   },
   "source": [
    "**Задание 6.**\n",
    "\n",
    "Примените `CountVectorizer()`, не забудьте убрать стоп-слова с помощью аргумента `stop_words='english'`. Обучите логистическую регрессию. Выведите `classification_report` из библиотеки `sklearn`."
   ]
  },
  {
   "cell_type": "code",
   "execution_count": null,
   "metadata": {
    "colab": {
     "base_uri": "https://localhost:8080/"
    },
    "id": "GwI_kRae0wEQ",
    "outputId": "0796f4b4-752e-4414-c733-e8626fb688bc"
   },
   "outputs": [],
   "source": [
    "from sklearn.feature_extraction.text import CountVectorizer\n",
    "from sklearn.linear_model import LogisticRegression\n",
    "from sklearn.metrics import classification_report\n",
    "\n",
    "# Преобразование текстов в числовой формат\n",
    "vectorizer = CountVectorizer(stop_words='english')\n",
    "X_train_vec = vectorizer.fit_transform(X_train)\n",
    "X_test_vec = vectorizer.transform(X_test)\n",
    "\n",
    "# Обучение модели логистической регрессии\n",
    "model = LogisticRegression(max_iter=1000, random_state=42)\n",
    "model.fit(X_train_vec, y_train)\n",
    "\n",
    "# Предсказание на тестовой выборке\n",
    "y_pred = model.predict(X_test_vec)\n",
    "\n",
    "# Вывод отчета классификации\n",
    "print(classification_report(y_test, y_pred))\n"
   ]
  },
  {
   "cell_type": "markdown",
   "metadata": {
    "id": "Kl0Sqm1z0wEQ"
   },
   "source": [
    "**Задание 7.**\n",
    "\n",
    "Подберите параметры `C` и `penalty` для логистической регрессии так, чтобы получилось улучшить результат."
   ]
  },
  {
   "cell_type": "code",
   "execution_count": null,
   "metadata": {
    "colab": {
     "base_uri": "https://localhost:8080/"
    },
    "id": "FFpna0VN0wER",
    "outputId": "627a7b8d-3ce0-4626-fe6b-1fddf452ee87"
   },
   "outputs": [],
   "source": [
    "from sklearn.model_selection import GridSearchCV\n",
    "from sklearn.linear_model import LogisticRegression\n",
    "from sklearn.metrics import classification_report\n",
    "\n",
    "# Задание параметров для перебора\n",
    "param_grid = {\n",
    "    'C': [0.1, 1, 10],  # Уменьшенное количество значений\n",
    "    'penalty': ['l2'],  # Упрощение до одного типа регуляризации\n",
    "    'solver': ['lbfgs']  # Более быстрый алгоритм\n",
    "}\n",
    "\n",
    "# Создание модели логистической регрессии\n",
    "model = LogisticRegression(max_iter=1000, random_state=42)\n",
    "\n",
    "# Настройка GridSearchCV\n",
    "grid_search = GridSearchCV(estimator=model, param_grid=param_grid, cv=3, scoring='f1_weighted', n_jobs=-1)\n",
    "\n",
    "# Обучение модели на обучающей выборке\n",
    "grid_search.fit(X_train_vec, y_train)\n",
    "\n",
    "# Лучшие параметры\n",
    "best_params = grid_search.best_params_\n",
    "print(\"Лучшие параметры:\", best_params)\n",
    "\n",
    "# Предсказание на тестовой выборке с лучшей моделью\n",
    "best_model = grid_search.best_estimator_\n",
    "y_pred = best_model.predict(X_test_vec)\n",
    "\n",
    "# Вывод отчета классификации\n",
    "print(classification_report(y_test, y_pred))\n"
   ]
  },
  {
   "cell_type": "markdown",
   "metadata": {
    "id": "1dAcIjOf0wER"
   },
   "source": [
    "**Задание 8.**\n",
    "\n",
    "Попробуйте разные значения `ngram_range`. Как меняется результат?"
   ]
  },
  {
   "cell_type": "code",
   "execution_count": null,
   "metadata": {
    "colab": {
     "base_uri": "https://localhost:8080/"
    },
    "id": "wRjaTKD70wER",
    "outputId": "26af9c45-9482-4483-972e-8f96f865fedb"
   },
   "outputs": [],
   "source": [
    "from sklearn.feature_extraction.text import CountVectorizer\n",
    "from sklearn.linear_model import LogisticRegression\n",
    "from sklearn.metrics import classification_report\n",
    "\n",
    "# Функция для обучения и оценки модели с разными ngram_range\n",
    "def evaluate_ngram_range(ngram_range):\n",
    "    print(f\"Оценка для ngram_range={ngram_range}\")\n",
    "\n",
    "    # Преобразование текстов в числовой формат\n",
    "    vectorizer = CountVectorizer(stop_words='english', ngram_range=ngram_range)\n",
    "    X_train_vec = vectorizer.fit_transform(X_train)\n",
    "    X_test_vec = vectorizer.transform(X_test)\n",
    "\n",
    "    # Обучение модели логистической регрессии\n",
    "    model = LogisticRegression(max_iter=1000, random_state=42)\n",
    "    model.fit(X_train_vec, y_train)\n",
    "\n",
    "    # Предсказание на тестовой выборке\n",
    "    y_pred = model.predict(X_test_vec)\n",
    "\n",
    "    # Вывод отчета классификации\n",
    "    print(classification_report(y_test, y_pred))\n",
    "\n",
    "# Попробуем разные значения ngram_range\n",
    "evaluate_ngram_range((1, 1))\n",
    "evaluate_ngram_range((1, 2))\n",
    "evaluate_ngram_range((1, 3))\n"
   ]
  },
  {
   "cell_type": "markdown",
   "metadata": {
    "id": "0wykca_D0wER"
   },
   "source": [
    "**Задание 9.**\n",
    "\n",
    "Теперь воспользуемся `TfidfVectorizer`. Повторите задания 6-7-8."
   ]
  },
  {
   "cell_type": "code",
   "execution_count": null,
   "metadata": {
    "colab": {
     "base_uri": "https://localhost:8080/"
    },
    "id": "J4S-oWcb0wER",
    "outputId": "68b427a2-db08-4081-8d78-a0e567b18d31"
   },
   "outputs": [],
   "source": [
    "# 9-6\n",
    "from sklearn.feature_extraction.text import TfidfVectorizer\n",
    "from sklearn.linear_model import LogisticRegression\n",
    "from sklearn.metrics import classification_report\n",
    "\n",
    "# Преобразование текстов в числовой формат\n",
    "tfidf_vectorizer = TfidfVectorizer(stop_words='english')\n",
    "X_train_tfidf = tfidf_vectorizer.fit_transform(X_train)\n",
    "X_test_tfidf = tfidf_vectorizer.transform(X_test)\n",
    "\n",
    "# Обучение модели логистической регрессии\n",
    "model = LogisticRegression(max_iter=1000, random_state=42)\n",
    "model.fit(X_train_tfidf, y_train)\n",
    "\n",
    "# Предсказание на тестовой выборке\n",
    "y_pred = model.predict(X_test_tfidf)\n",
    "\n",
    "# Вывод отчета классификации\n",
    "print(classification_report(y_test, y_pred))\n"
   ]
  },
  {
   "cell_type": "code",
   "execution_count": null,
   "metadata": {
    "colab": {
     "base_uri": "https://localhost:8080/"
    },
    "id": "EEzX_zIq_unz",
    "outputId": "d850658b-8306-4812-8738-38c9f2f31fcd"
   },
   "outputs": [],
   "source": [
    "# 9-7\n",
    "from sklearn.model_selection import GridSearchCV\n",
    "\n",
    "# Задание параметров для перебора\n",
    "param_grid = {\n",
    "    'C': [0.1, 1, 10],\n",
    "    'penalty': ['l2'],  # Упрощение до одного типа регуляризации\n",
    "    'solver': ['lbfgs']  # Совместимость с 'l2'\n",
    "}\n",
    "\n",
    "# Создание модели логистической регрессии\n",
    "model = LogisticRegression(max_iter=1000, random_state=42)\n",
    "\n",
    "# Настройка GridSearchCV\n",
    "grid_search = GridSearchCV(estimator=model, param_grid=param_grid, cv=3, scoring='f1_weighted', n_jobs=-1)\n",
    "\n",
    "# Обучение модели на обучающей выборке\n",
    "grid_search.fit(X_train_tfidf, y_train)\n",
    "\n",
    "# Лучшие параметры\n",
    "best_params = grid_search.best_params_\n",
    "print(\"Лучшие параметры:\", best_params)\n",
    "\n",
    "# Предсказание на тестовой выборке с лучшей моделью\n",
    "best_model = grid_search.best_estimator_\n",
    "y_pred = best_model.predict(X_test_tfidf)\n",
    "\n",
    "# Вывод отчета классификации\n",
    "print(classification_report(y_test, y_pred))\n"
   ]
  },
  {
   "cell_type": "code",
   "execution_count": null,
   "metadata": {
    "colab": {
     "base_uri": "https://localhost:8080/"
    },
    "id": "J4IOe-SE_7AY",
    "outputId": "2e93ef92-f02d-4cf1-c2e1-e844effdd46e"
   },
   "outputs": [],
   "source": [
    "# 9-8\n",
    "# Функция для обучения и оценки модели с разными ngram_range\n",
    "def evaluate_ngram_range_tfidf(ngram_range):\n",
    "    print(f\"Оценка для ngram_range={ngram_range}\")\n",
    "\n",
    "    # Преобразование текстов в числовой формат\n",
    "    tfidf_vectorizer = TfidfVectorizer(stop_words='english', ngram_range=ngram_range)\n",
    "    X_train_tfidf = tfidf_vectorizer.fit_transform(X_train)\n",
    "    X_test_tfidf = tfidf_vectorizer.transform(X_test)\n",
    "\n",
    "    # Обучение модели логистической регрессии\n",
    "    model = LogisticRegression(max_iter=1000, random_state=42)\n",
    "    model.fit(X_train_tfidf, y_train)\n",
    "\n",
    "    # Предсказание на тестовой выборке\n",
    "    y_pred = model.predict(X_test_tfidf)\n",
    "\n",
    "    # Вывод отчета классификации\n",
    "    print(classification_report(y_test, y_pred))\n",
    "\n",
    "# Попробуем разные значения ngram_range\n",
    "evaluate_ngram_range_tfidf((1, 1))\n",
    "evaluate_ngram_range_tfidf((1, 2))\n",
    "evaluate_ngram_range_tfidf((1, 3))\n"
   ]
  },
  {
   "cell_type": "markdown",
   "metadata": {
    "id": "TM_AQ81o0wER"
   },
   "source": [
    "**Задание 10.**\n",
    "\n",
    "В этом и последующих заданиях будем пользоваться векторами, полученными с помощью `TfidfVectorizer`. Обучите модель случайного леса, подобрав параметры `n_estimators`, `max_depth` с помощью GridSearch c 5 фолдами и параметром `scoring = 'accuracy'`. Выведите `classification_report` для лучшей модели."
   ]
  },
  {
   "cell_type": "code",
   "execution_count": null,
   "metadata": {
    "colab": {
     "base_uri": "https://localhost:8080/"
    },
    "id": "S4qJdgHY0wER",
    "outputId": "4eda14cb-acc6-4493-9b25-d98fcdbbda0a"
   },
   "outputs": [],
   "source": [
    "from sklearn.ensemble import RandomForestClassifier\n",
    "from sklearn.model_selection import GridSearchCV\n",
    "from sklearn.metrics import classification_report\n",
    "from sklearn.feature_extraction.text import TfidfVectorizer\n",
    "\n",
    "# Преобразование текстов в числовой формат\n",
    "tfidf_vectorizer = TfidfVectorizer(stop_words='english')\n",
    "X_train_tfidf = tfidf_vectorizer.fit_transform(X_train)\n",
    "X_test_tfidf = tfidf_vectorizer.transform(X_test)\n",
    "\n",
    "# Задание параметров для перебора\n",
    "param_grid = {\n",
    "    'n_estimators': [50, 100],  # Уменьшенное количество значений\n",
    "    'max_depth': [10, 20]       # Уменьшенное количество значений\n",
    "}\n",
    "\n",
    "# Создание модели случайного леса\n",
    "rf_model = RandomForestClassifier(random_state=42)\n",
    "\n",
    "# Настройка GridSearchCV\n",
    "grid_search = GridSearchCV(estimator=rf_model, param_grid=param_grid, cv=3, scoring='accuracy', n_jobs=-1)\n",
    "\n",
    "# Обучение модели на обучающей выборке\n",
    "grid_search.fit(X_train_tfidf, y_train)\n",
    "\n",
    "# Лучшие параметры\n",
    "best_params = grid_search.best_params_\n",
    "print(\"Лучшие параметры:\", best_params)\n",
    "\n",
    "# Предсказание на тестовой выборке с лучшей моделью\n",
    "best_rf_model = grid_search.best_estimator_\n",
    "y_pred = best_rf_model.predict(X_test_tfidf)\n",
    "\n",
    "# Вывод отчета классификации\n",
    "print(classification_report(y_test, y_pred))\n"
   ]
  },
  {
   "cell_type": "markdown",
   "metadata": {
    "id": "tYgZ_iMK0wER"
   },
   "source": [
    "**Задание 11.**\n",
    "\n",
    "Обучите модель `SGDClassifier`, подобрав параметры `alpha` и `penalty` с помощью GridSearch c 5 фолдами и параметром `scoring = 'accuracy'`. Выведите `classification_report` для лучшей модели."
   ]
  },
  {
   "cell_type": "code",
   "execution_count": null,
   "metadata": {
    "colab": {
     "base_uri": "https://localhost:8080/"
    },
    "id": "v_nNprQ60wER",
    "outputId": "a7044e4d-39af-4112-a41e-c8dd9f2cfad7"
   },
   "outputs": [],
   "source": [
    "from sklearn.linear_model import SGDClassifier\n",
    "from sklearn.model_selection import GridSearchCV\n",
    "from sklearn.metrics import classification_report\n",
    "from sklearn.feature_extraction.text import TfidfVectorizer\n",
    "\n",
    "# Преобразование текстов в числовой формат\n",
    "tfidf_vectorizer = TfidfVectorizer(stop_words='english')\n",
    "X_train_tfidf = tfidf_vectorizer.fit_transform(X_train)\n",
    "X_test_tfidf = tfidf_vectorizer.transform(X_test)\n",
    "\n",
    "# Задание параметров для перебора\n",
    "param_grid = {\n",
    "    'alpha': [0.0001, 0.001, 0.01],  # Регуляризационный параметр\n",
    "    'penalty': ['l2', 'l1', 'elasticnet']  # Тип регуляризации\n",
    "}\n",
    "\n",
    "# Создание модели SGDClassifier\n",
    "sgd_model = SGDClassifier(random_state=42, max_iter=1000, tol=1e-3)\n",
    "\n",
    "# Настройка GridSearchCV\n",
    "grid_search = GridSearchCV(estimator=sgd_model, param_grid=param_grid, cv=5, scoring='accuracy', n_jobs=-1)\n",
    "\n",
    "# Обучение модели на обучающей выборке\n",
    "grid_search.fit(X_train_tfidf, y_train)\n",
    "\n",
    "# Лучшие параметры\n",
    "best_params = grid_search.best_params_\n",
    "print(\"Лучшие параметры:\", best_params)\n",
    "\n",
    "# Предсказание на тестовой выборке с лучшей моделью\n",
    "best_sgd_model = grid_search.best_estimator_\n",
    "y_pred = best_sgd_model.predict(X_test_tfidf)\n",
    "\n",
    "# Вывод отчета классификации\n",
    "print(classification_report(y_test, y_pred))\n"
   ]
  },
  {
   "cell_type": "markdown",
   "metadata": {
    "id": "3EcRVmWU0wER"
   },
   "source": [
    "**Задание 12.**\n",
    "\n",
    "Обучите модель XGBoost, подобрав параметры `max_depth`, `n_estimators` и `learning_rate` с помощью GridSearch c 5 фолдами и параметром `scoring = 'accuracy'`. Выведите `classification_report` для лучшей модели."
   ]
  },
  {
   "cell_type": "code",
   "execution_count": null,
   "metadata": {
    "colab": {
     "base_uri": "https://localhost:8080/"
    },
    "id": "DvtL1xpD0wER",
    "outputId": "d7726587-16a1-4d6b-9071-ec9c49a93945"
   },
   "outputs": [],
   "source": [
    "import xgboost as xgb\n",
    "from sklearn.model_selection import GridSearchCV\n",
    "from sklearn.metrics import classification_report\n",
    "from sklearn.feature_extraction.text import TfidfVectorizer\n",
    "\n",
    "# Преобразование текстов в числовой формат\n",
    "tfidf_vectorizer = TfidfVectorizer(stop_words='english')\n",
    "X_train_tfidf = tfidf_vectorizer.fit_transform(X_train)\n",
    "X_test_tfidf = tfidf_vectorizer.transform(X_test)\n",
    "\n",
    "# Задание параметров для перебора\n",
    "param_grid = {\n",
    "    'max_depth': [3, 5],          # Уменьшенное количество значений\n",
    "    'n_estimators': [50, 100],    # Уменьшенное количество значений\n",
    "    'learning_rate': [0.1, 0.3]   # Уменьшенное количество значений\n",
    "}\n",
    "\n",
    "# Создание модели XGBoost\n",
    "xgb_model = xgb.XGBClassifier(use_label_encoder=False, eval_metric='mlogloss', random_state=42)\n",
    "\n",
    "# Настройка GridSearchCV\n",
    "grid_search = GridSearchCV(estimator=xgb_model, param_grid=param_grid, cv=3, scoring='accuracy', n_jobs=-1)\n",
    "\n",
    "# Обучение модели на обучающей выборке\n",
    "grid_search.fit(X_train_tfidf, y_train)\n",
    "\n",
    "# Лучшие параметры\n",
    "best_params = grid_search.best_params_\n",
    "print(\"Лучшие параметры:\", best_params)\n",
    "\n",
    "# Предсказание на тестовой выборке с лучшей моделью\n",
    "best_xgb_model = grid_search.best_estimator_\n",
    "y_pred = best_xgb_model.predict(X_test_tfidf)\n",
    "\n",
    "# Вывод отчета классификации\n",
    "print(classification_report(y_test, y_pred))\n"
   ]
  }
 ],
 "metadata": {
  "colab": {
   "provenance": []
  },
  "kernelspec": {
   "display_name": "Python 3 (ipykernel)",
   "language": "python",
   "name": "python3"
  },
  "language_info": {
   "codemirror_mode": {
    "name": "ipython",
    "version": 3
   },
   "file_extension": ".py",
   "mimetype": "text/x-python",
   "name": "python",
   "nbconvert_exporter": "python",
   "pygments_lexer": "ipython3",
   "version": "3.11.4"
  },
  "varInspector": {
   "cols": {
    "lenName": 16,
    "lenType": 16,
    "lenVar": 40
   },
   "kernels_config": {
    "python": {
     "delete_cmd_postfix": "",
     "delete_cmd_prefix": "del ",
     "library": "var_list.py",
     "varRefreshCmd": "print(var_dic_list())"
    },
    "r": {
     "delete_cmd_postfix": ") ",
     "delete_cmd_prefix": "rm(",
     "library": "var_list.r",
     "varRefreshCmd": "cat(var_dic_list()) "
    }
   },
   "types_to_exclude": [
    "module",
    "function",
    "builtin_function_or_method",
    "instance",
    "_Feature"
   ],
   "window_display": false
  }
 },
 "nbformat": 4,
 "nbformat_minor": 1
}
