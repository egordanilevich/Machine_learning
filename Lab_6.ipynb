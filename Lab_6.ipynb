{
 "cells": [
  {
   "cell_type": "code",
   "execution_count": 96,
   "metadata": {
    "colab": {
     "base_uri": "https://localhost:8080/"
    },
    "id": "xwdLc3Nh6IzI",
    "outputId": "087d7451-094a-40a1-9f69-57aeec00f346"
   },
   "outputs": [],
   "source": [
    "#!unzip credit_test.zip\n",
    "#!unzip credit_train.zip"
   ]
  },
  {
   "cell_type": "code",
   "execution_count": 97,
   "metadata": {
    "id": "F0lfq_s66259"
   },
   "outputs": [],
   "source": [
    "import pandas as pd"
   ]
  },
  {
   "cell_type": "code",
   "execution_count": 98,
   "metadata": {
    "colab": {
     "base_uri": "https://localhost:8080/",
     "height": 433
    },
    "id": "rgiKUHIJ7JUU",
    "outputId": "29a0fbbf-42e3-4657-fdf0-51aa5a47e4c3"
   },
   "outputs": [
    {
     "name": "stdout",
     "output_type": "stream",
     "text": [
      "(100000, 19)\n"
     ]
    },
    {
     "data": {
      "text/html": [
       "<div>\n",
       "<style scoped>\n",
       "    .dataframe tbody tr th:only-of-type {\n",
       "        vertical-align: middle;\n",
       "    }\n",
       "\n",
       "    .dataframe tbody tr th {\n",
       "        vertical-align: top;\n",
       "    }\n",
       "\n",
       "    .dataframe thead th {\n",
       "        text-align: right;\n",
       "    }\n",
       "</style>\n",
       "<table border=\"1\" class=\"dataframe\">\n",
       "  <thead>\n",
       "    <tr style=\"text-align: right;\">\n",
       "      <th></th>\n",
       "      <th>Loan ID</th>\n",
       "      <th>Customer ID</th>\n",
       "      <th>Loan Status</th>\n",
       "      <th>Current Loan Amount</th>\n",
       "      <th>Term</th>\n",
       "      <th>Credit Score</th>\n",
       "      <th>Annual Income</th>\n",
       "      <th>Years in current job</th>\n",
       "      <th>Home Ownership</th>\n",
       "      <th>Purpose</th>\n",
       "      <th>Monthly Debt</th>\n",
       "      <th>Years of Credit History</th>\n",
       "      <th>Months since last delinquent</th>\n",
       "      <th>Number of Open Accounts</th>\n",
       "      <th>Number of Credit Problems</th>\n",
       "      <th>Current Credit Balance</th>\n",
       "      <th>Maximum Open Credit</th>\n",
       "      <th>Bankruptcies</th>\n",
       "      <th>Tax Liens</th>\n",
       "    </tr>\n",
       "  </thead>\n",
       "  <tbody>\n",
       "    <tr>\n",
       "      <th>0</th>\n",
       "      <td>14dd8831-6af5-400b-83ec-68e61888a048</td>\n",
       "      <td>981165ec-3274-42f5-a3b4-d104041a9ca9</td>\n",
       "      <td>Fully Paid</td>\n",
       "      <td>445412</td>\n",
       "      <td>Short Term</td>\n",
       "      <td>709.0</td>\n",
       "      <td>1167493.0</td>\n",
       "      <td>8 years</td>\n",
       "      <td>Home Mortgage</td>\n",
       "      <td>Home Improvements</td>\n",
       "      <td>5214.74</td>\n",
       "      <td>17.2</td>\n",
       "      <td>NaN</td>\n",
       "      <td>6</td>\n",
       "      <td>1</td>\n",
       "      <td>228190</td>\n",
       "      <td>416746.0</td>\n",
       "      <td>1.0</td>\n",
       "      <td>0.0</td>\n",
       "    </tr>\n",
       "    <tr>\n",
       "      <th>1</th>\n",
       "      <td>4771cc26-131a-45db-b5aa-537ea4ba5342</td>\n",
       "      <td>2de017a3-2e01-49cb-a581-08169e83be29</td>\n",
       "      <td>Fully Paid</td>\n",
       "      <td>262328</td>\n",
       "      <td>Short Term</td>\n",
       "      <td>NaN</td>\n",
       "      <td>NaN</td>\n",
       "      <td>10+ years</td>\n",
       "      <td>Home Mortgage</td>\n",
       "      <td>Debt Consolidation</td>\n",
       "      <td>33295.98</td>\n",
       "      <td>21.1</td>\n",
       "      <td>8.0</td>\n",
       "      <td>35</td>\n",
       "      <td>0</td>\n",
       "      <td>229976</td>\n",
       "      <td>850784.0</td>\n",
       "      <td>0.0</td>\n",
       "      <td>0.0</td>\n",
       "    </tr>\n",
       "    <tr>\n",
       "      <th>2</th>\n",
       "      <td>4eed4e6a-aa2f-4c91-8651-ce984ee8fb26</td>\n",
       "      <td>5efb2b2b-bf11-4dfd-a572-3761a2694725</td>\n",
       "      <td>Fully Paid</td>\n",
       "      <td>99999999</td>\n",
       "      <td>Short Term</td>\n",
       "      <td>741.0</td>\n",
       "      <td>2231892.0</td>\n",
       "      <td>8 years</td>\n",
       "      <td>Own Home</td>\n",
       "      <td>Debt Consolidation</td>\n",
       "      <td>29200.53</td>\n",
       "      <td>14.9</td>\n",
       "      <td>29.0</td>\n",
       "      <td>18</td>\n",
       "      <td>1</td>\n",
       "      <td>297996</td>\n",
       "      <td>750090.0</td>\n",
       "      <td>0.0</td>\n",
       "      <td>0.0</td>\n",
       "    </tr>\n",
       "    <tr>\n",
       "      <th>3</th>\n",
       "      <td>77598f7b-32e7-4e3b-a6e5-06ba0d98fe8a</td>\n",
       "      <td>e777faab-98ae-45af-9a86-7ce5b33b1011</td>\n",
       "      <td>Fully Paid</td>\n",
       "      <td>347666</td>\n",
       "      <td>Long Term</td>\n",
       "      <td>721.0</td>\n",
       "      <td>806949.0</td>\n",
       "      <td>3 years</td>\n",
       "      <td>Own Home</td>\n",
       "      <td>Debt Consolidation</td>\n",
       "      <td>8741.90</td>\n",
       "      <td>12.0</td>\n",
       "      <td>NaN</td>\n",
       "      <td>9</td>\n",
       "      <td>0</td>\n",
       "      <td>256329</td>\n",
       "      <td>386958.0</td>\n",
       "      <td>0.0</td>\n",
       "      <td>0.0</td>\n",
       "    </tr>\n",
       "    <tr>\n",
       "      <th>4</th>\n",
       "      <td>d4062e70-befa-4995-8643-a0de73938182</td>\n",
       "      <td>81536ad9-5ccf-4eb8-befb-47a4d608658e</td>\n",
       "      <td>Fully Paid</td>\n",
       "      <td>176220</td>\n",
       "      <td>Short Term</td>\n",
       "      <td>NaN</td>\n",
       "      <td>NaN</td>\n",
       "      <td>5 years</td>\n",
       "      <td>Rent</td>\n",
       "      <td>Debt Consolidation</td>\n",
       "      <td>20639.70</td>\n",
       "      <td>6.1</td>\n",
       "      <td>NaN</td>\n",
       "      <td>15</td>\n",
       "      <td>0</td>\n",
       "      <td>253460</td>\n",
       "      <td>427174.0</td>\n",
       "      <td>0.0</td>\n",
       "      <td>0.0</td>\n",
       "    </tr>\n",
       "  </tbody>\n",
       "</table>\n",
       "</div>"
      ],
      "text/plain": [
       "                                Loan ID                           Customer ID  \\\n",
       "0  14dd8831-6af5-400b-83ec-68e61888a048  981165ec-3274-42f5-a3b4-d104041a9ca9   \n",
       "1  4771cc26-131a-45db-b5aa-537ea4ba5342  2de017a3-2e01-49cb-a581-08169e83be29   \n",
       "2  4eed4e6a-aa2f-4c91-8651-ce984ee8fb26  5efb2b2b-bf11-4dfd-a572-3761a2694725   \n",
       "3  77598f7b-32e7-4e3b-a6e5-06ba0d98fe8a  e777faab-98ae-45af-9a86-7ce5b33b1011   \n",
       "4  d4062e70-befa-4995-8643-a0de73938182  81536ad9-5ccf-4eb8-befb-47a4d608658e   \n",
       "\n",
       "  Loan Status  Current Loan Amount        Term  Credit Score  Annual Income  \\\n",
       "0  Fully Paid               445412  Short Term         709.0      1167493.0   \n",
       "1  Fully Paid               262328  Short Term           NaN            NaN   \n",
       "2  Fully Paid             99999999  Short Term         741.0      2231892.0   \n",
       "3  Fully Paid               347666   Long Term         721.0       806949.0   \n",
       "4  Fully Paid               176220  Short Term           NaN            NaN   \n",
       "\n",
       "  Years in current job Home Ownership             Purpose  Monthly Debt  \\\n",
       "0              8 years  Home Mortgage   Home Improvements       5214.74   \n",
       "1            10+ years  Home Mortgage  Debt Consolidation      33295.98   \n",
       "2              8 years       Own Home  Debt Consolidation      29200.53   \n",
       "3              3 years       Own Home  Debt Consolidation       8741.90   \n",
       "4              5 years           Rent  Debt Consolidation      20639.70   \n",
       "\n",
       "   Years of Credit History  Months since last delinquent  \\\n",
       "0                     17.2                           NaN   \n",
       "1                     21.1                           8.0   \n",
       "2                     14.9                          29.0   \n",
       "3                     12.0                           NaN   \n",
       "4                      6.1                           NaN   \n",
       "\n",
       "   Number of Open Accounts  Number of Credit Problems  Current Credit Balance  \\\n",
       "0                        6                          1                  228190   \n",
       "1                       35                          0                  229976   \n",
       "2                       18                          1                  297996   \n",
       "3                        9                          0                  256329   \n",
       "4                       15                          0                  253460   \n",
       "\n",
       "   Maximum Open Credit  Bankruptcies  Tax Liens  \n",
       "0             416746.0           1.0        0.0  \n",
       "1             850784.0           0.0        0.0  \n",
       "2             750090.0           0.0        0.0  \n",
       "3             386958.0           0.0        0.0  \n",
       "4             427174.0           0.0        0.0  "
      ]
     },
     "execution_count": 98,
     "metadata": {},
     "output_type": "execute_result"
    }
   ],
   "source": [
    "df_train = pd.read_csv(\"credit_train.csv\")\n",
    "print(df_train.shape)\n",
    "df_train.head()"
   ]
  },
  {
   "cell_type": "markdown",
   "metadata": {
    "id": "FLe1sfIT6aO3"
   },
   "source": [
    "Описание полей:\n",
    "* Loan ID: уникальный идентификатор кредита;\n",
    "* Customer ID: уникальный идентификатор клиента;\n",
    "* Loan Status: категориальный признак - кредит погашен (\"Fully Paid\") или не погашен (\"Charged Off\");\n",
    "* Current Loan Amount: размер кредита;\n",
    "* Term: срок кредита;\n",
    "* Credit Score: кредитный рейтинг - число от 0 до 800;\n",
    "* Years in current job: стаж на текущем месте работы;\n",
    "* Home Ownership: статус недвижимости - собственность (\"Own\"), ипотека (\"Home Mortgage\") или аренда (\"Rent\");\n",
    "* Annual Income: годовой доход;\n",
    "* Purpose: цель кредита;\n",
    "* Monthly Debt: размер ежемесячного платежа по текущим кредитам;\n",
    "* Years of Credit History: количество лет кредитной истории;\n",
    "* Months since last delinquent: количество месяцев с последнего нарушения условий кредита;\n",
    "* Number of Open Accounts: количество открытых кредитных карт;\n",
    "* Number of Credit Problems: количество кредитных проблем;\n",
    "* Current Credit Balance: суммарный текущий долг;\n",
    "* Maximum Open Credit: максимальный кредитный лимит из всех источников;\n",
    "* Bankruptcies: количество банкротств;\n",
    "* Tax Liens: количество нарушений налогового законодательства.\n",
    "\n",
    "\n"
   ]
  },
  {
   "cell_type": "code",
   "execution_count": 99,
   "metadata": {
    "id": "hfNb3mPdDI3F"
   },
   "outputs": [],
   "source": [
    "df_train.drop(columns=['Loan ID', 'Customer ID'], inplace=True)"
   ]
  },
  {
   "cell_type": "code",
   "execution_count": 100,
   "metadata": {
    "colab": {
     "base_uri": "https://localhost:8080/",
     "height": 617
    },
    "id": "jYlxEvns7hk7",
    "outputId": "c337702a-6125-481d-9b62-1de320663d80"
   },
   "outputs": [
    {
     "data": {
      "text/plain": [
       "Loan Status                         0\n",
       "Current Loan Amount                 0\n",
       "Term                                0\n",
       "Credit Score                    19154\n",
       "Annual Income                   19154\n",
       "Years in current job             4222\n",
       "Home Ownership                      0\n",
       "Purpose                             0\n",
       "Monthly Debt                        0\n",
       "Years of Credit History             0\n",
       "Months since last delinquent    53141\n",
       "Number of Open Accounts             0\n",
       "Number of Credit Problems           0\n",
       "Current Credit Balance              0\n",
       "Maximum Open Credit                 2\n",
       "Bankruptcies                      204\n",
       "Tax Liens                          10\n",
       "dtype: int64"
      ]
     },
     "execution_count": 100,
     "metadata": {},
     "output_type": "execute_result"
    }
   ],
   "source": [
    "df_train.isna().sum()"
   ]
  },
  {
   "cell_type": "code",
   "execution_count": 101,
   "metadata": {
    "colab": {
     "base_uri": "https://localhost:8080/"
    },
    "id": "rHAGWQ_-A0Pz",
    "outputId": "e9275d00-ead5-46be-ad0b-774d0d52769a"
   },
   "outputs": [
    {
     "data": {
      "text/plain": [
       "10215"
      ]
     },
     "execution_count": 101,
     "metadata": {},
     "output_type": "execute_result"
    }
   ],
   "source": [
    "df_train.duplicated().sum()"
   ]
  },
  {
   "cell_type": "code",
   "execution_count": 102,
   "metadata": {
    "id": "aG74bj5TBKcZ"
   },
   "outputs": [],
   "source": [
    "df_train.drop_duplicates(inplace=True)"
   ]
  },
  {
   "cell_type": "code",
   "execution_count": 103,
   "metadata": {
    "colab": {
     "base_uri": "https://localhost:8080/"
    },
    "id": "KjOtBX2sBJ9d",
    "outputId": "5770dce3-41a5-4ca0-eec6-327e4780c868"
   },
   "outputs": [
    {
     "data": {
      "text/plain": [
       "0"
      ]
     },
     "execution_count": 103,
     "metadata": {},
     "output_type": "execute_result"
    }
   ],
   "source": [
    "df_train.duplicated().sum()"
   ]
  },
  {
   "cell_type": "code",
   "execution_count": 104,
   "metadata": {
    "colab": {
     "base_uri": "https://localhost:8080/"
    },
    "id": "C0OYnN7FBR5x",
    "outputId": "b92c3ceb-1525-462d-df01-ee11654ff07d"
   },
   "outputs": [
    {
     "data": {
      "text/plain": [
       "(89785, 17)"
      ]
     },
     "execution_count": 104,
     "metadata": {},
     "output_type": "execute_result"
    }
   ],
   "source": [
    "df_train.shape"
   ]
  },
  {
   "cell_type": "code",
   "execution_count": 105,
   "metadata": {
    "colab": {
     "base_uri": "https://localhost:8080/"
    },
    "id": "TKjz308J9dJQ",
    "outputId": "10ef0e47-35b6-459a-c921-1ed9dc95cf9d"
   },
   "outputs": [
    {
     "data": {
      "text/plain": [
       "1130.8305984624315"
      ]
     },
     "execution_count": 105,
     "metadata": {},
     "output_type": "execute_result"
    }
   ],
   "source": [
    "df_train['Credit Score'].mean()"
   ]
  },
  {
   "cell_type": "code",
   "execution_count": 106,
   "metadata": {
    "colab": {
     "base_uri": "https://localhost:8080/",
     "height": 489
    },
    "id": "56IZ098878Gb",
    "outputId": "d612d9ee-9ab6-4cc3-dd08-9757a82260c1"
   },
   "outputs": [
    {
     "data": {
      "text/plain": [
       "747.0     1825\n",
       "740.0     1746\n",
       "746.0     1742\n",
       "741.0     1732\n",
       "742.0     1723\n",
       "          ... \n",
       "6070.0       1\n",
       "5960.0       1\n",
       "5860.0       1\n",
       "5890.0       1\n",
       "6050.0       1\n",
       "Name: Credit Score, Length: 324, dtype: int64"
      ]
     },
     "execution_count": 106,
     "metadata": {},
     "output_type": "execute_result"
    }
   ],
   "source": [
    "df_train['Credit Score'].value_counts()"
   ]
  },
  {
   "cell_type": "code",
   "execution_count": 107,
   "metadata": {
    "id": "5dz4Ylyw82wJ"
   },
   "outputs": [],
   "source": [
    "df_train['Credit Score'] = df_train['Credit Score'].map(lambda x: x / 10 if x >= 1000 else x)"
   ]
  },
  {
   "cell_type": "code",
   "execution_count": 108,
   "metadata": {
    "colab": {
     "base_uri": "https://localhost:8080/",
     "height": 489
    },
    "id": "26hhSFLP9RcR",
    "outputId": "fab2871b-e54e-44f2-a064-0f5793a5062c"
   },
   "outputs": [
    {
     "data": {
      "text/plain": [
       "747.0    1876\n",
       "740.0    1843\n",
       "741.0    1819\n",
       "746.0    1818\n",
       "742.0    1807\n",
       "         ... \n",
       "590.0       7\n",
       "586.0       7\n",
       "593.0       7\n",
       "589.0       6\n",
       "592.0       5\n",
       "Name: Credit Score, Length: 167, dtype: int64"
      ]
     },
     "execution_count": 108,
     "metadata": {},
     "output_type": "execute_result"
    }
   ],
   "source": [
    "df_train['Credit Score'].value_counts()"
   ]
  },
  {
   "cell_type": "code",
   "execution_count": 109,
   "metadata": {
    "colab": {
     "base_uri": "https://localhost:8080/"
    },
    "id": "_B-0nP8m9lLG",
    "outputId": "6a998cc8-8aec-4389-f928-bd28b65edb23"
   },
   "outputs": [
    {
     "data": {
      "text/plain": [
       "718.5794764338605"
      ]
     },
     "execution_count": 109,
     "metadata": {},
     "output_type": "execute_result"
    }
   ],
   "source": [
    "df_train['Credit Score'].mean()"
   ]
  },
  {
   "cell_type": "code",
   "execution_count": 110,
   "metadata": {
    "colab": {
     "base_uri": "https://localhost:8080/"
    },
    "id": "T2k74riI9vF1",
    "outputId": "58cbb71e-22b7-4058-8e28-aab461269c8a"
   },
   "outputs": [
    {
     "data": {
      "text/plain": [
       "1375894.3876909572"
      ]
     },
     "execution_count": 110,
     "metadata": {},
     "output_type": "execute_result"
    }
   ],
   "source": [
    "df_train['Annual Income'].mean()"
   ]
  },
  {
   "cell_type": "code",
   "execution_count": 111,
   "metadata": {
    "colab": {
     "base_uri": "https://localhost:8080/",
     "height": 115
    },
    "id": "ToPPJtnj8FVq",
    "outputId": "d96bec98-4101-4f9d-aabd-3f2c10765007"
   },
   "outputs": [
    {
     "data": {
      "text/plain": [
       "0    10+ years\n",
       "Name: Years in current job, dtype: object"
      ]
     },
     "execution_count": 111,
     "metadata": {},
     "output_type": "execute_result"
    }
   ],
   "source": [
    "df_train['Years in current job'].mode()"
   ]
  },
  {
   "cell_type": "code",
   "execution_count": 112,
   "metadata": {
    "colab": {
     "base_uri": "https://localhost:8080/"
    },
    "id": "8qtbpx1t-Msv",
    "outputId": "b7fe046b-a39f-4fa3-f2aa-5ea3dfb53e98"
   },
   "outputs": [
    {
     "data": {
      "text/plain": [
       "34.97587338351669"
      ]
     },
     "execution_count": 112,
     "metadata": {},
     "output_type": "execute_result"
    }
   ],
   "source": [
    "df_train['Months since last delinquent'].mean()"
   ]
  },
  {
   "cell_type": "code",
   "execution_count": 113,
   "metadata": {
    "colab": {
     "base_uri": "https://localhost:8080/"
    },
    "id": "pSta5TrZ_0nM",
    "outputId": "58c7ac11-8e31-449a-cb5f-e43ccb3b5611"
   },
   "outputs": [
    {
     "data": {
      "text/plain": [
       "775656.5049953777"
      ]
     },
     "execution_count": 113,
     "metadata": {},
     "output_type": "execute_result"
    }
   ],
   "source": [
    "df_train['Maximum Open Credit'].mean()"
   ]
  },
  {
   "cell_type": "code",
   "execution_count": 114,
   "metadata": {
    "colab": {
     "base_uri": "https://localhost:8080/",
     "height": 115
    },
    "id": "dgG32NZnAVjL",
    "outputId": "983a7b69-429b-4a90-cf02-4e2120319695"
   },
   "outputs": [
    {
     "data": {
      "text/plain": [
       "0    0.0\n",
       "Name: Bankruptcies, dtype: float64"
      ]
     },
     "execution_count": 114,
     "metadata": {},
     "output_type": "execute_result"
    }
   ],
   "source": [
    "df_train['Bankruptcies'].mode()"
   ]
  },
  {
   "cell_type": "code",
   "execution_count": 115,
   "metadata": {
    "colab": {
     "base_uri": "https://localhost:8080/",
     "height": 115
    },
    "id": "47BZ-hjJAhTb",
    "outputId": "e9cfa801-1a04-4f1b-f483-ef542897b92f"
   },
   "outputs": [
    {
     "data": {
      "text/plain": [
       "0    0.0\n",
       "Name: Tax Liens, dtype: float64"
      ]
     },
     "execution_count": 115,
     "metadata": {},
     "output_type": "execute_result"
    }
   ],
   "source": [
    "df_train['Tax Liens'].mode()"
   ]
  },
  {
   "cell_type": "code",
   "execution_count": 116,
   "metadata": {
    "id": "mZD57P3H7paj"
   },
   "outputs": [],
   "source": [
    "df_train.fillna({\n",
    "    'Credit Score': round(df_train['Credit Score'].mean()),\n",
    "    'Annual Income': round(df_train['Annual Income'].mean()),\n",
    "    'Years in current job': df_train['Years in current job'].mode()[0],\n",
    "    'Months since last delinquent': round(df_train['Months since last delinquent'].mean()),\n",
    "    'Maximum Open Credit': round(df_train['Maximum Open Credit'].mean()),\n",
    "    'Bankruptcies': df_train['Bankruptcies'].mode()[0],\n",
    "    'Tax Liens': df_train['Tax Liens'].mode()[0],\n",
    "}, inplace=True)"
   ]
  },
  {
   "cell_type": "code",
   "execution_count": 117,
   "metadata": {
    "colab": {
     "base_uri": "https://localhost:8080/",
     "height": 617
    },
    "id": "yDmmODkFApO6",
    "outputId": "3ddd9ed5-02a5-4a7d-ac24-61ce60049ddf"
   },
   "outputs": [
    {
     "data": {
      "text/plain": [
       "Loan Status                     0\n",
       "Current Loan Amount             0\n",
       "Term                            0\n",
       "Credit Score                    0\n",
       "Annual Income                   0\n",
       "Years in current job            0\n",
       "Home Ownership                  0\n",
       "Purpose                         0\n",
       "Monthly Debt                    0\n",
       "Years of Credit History         0\n",
       "Months since last delinquent    0\n",
       "Number of Open Accounts         0\n",
       "Number of Credit Problems       0\n",
       "Current Credit Balance          0\n",
       "Maximum Open Credit             0\n",
       "Bankruptcies                    0\n",
       "Tax Liens                       0\n",
       "dtype: int64"
      ]
     },
     "execution_count": 117,
     "metadata": {},
     "output_type": "execute_result"
    }
   ],
   "source": [
    "df_train.isna().sum()"
   ]
  },
  {
   "cell_type": "code",
   "execution_count": 118,
   "metadata": {
    "colab": {
     "base_uri": "https://localhost:8080/",
     "height": 317
    },
    "id": "L59jpm-NBigo",
    "outputId": "5ed19e42-743c-4fdb-cad0-2eaf852ad521"
   },
   "outputs": [
    {
     "data": {
      "text/html": [
       "<div>\n",
       "<style scoped>\n",
       "    .dataframe tbody tr th:only-of-type {\n",
       "        vertical-align: middle;\n",
       "    }\n",
       "\n",
       "    .dataframe tbody tr th {\n",
       "        vertical-align: top;\n",
       "    }\n",
       "\n",
       "    .dataframe thead th {\n",
       "        text-align: right;\n",
       "    }\n",
       "</style>\n",
       "<table border=\"1\" class=\"dataframe\">\n",
       "  <thead>\n",
       "    <tr style=\"text-align: right;\">\n",
       "      <th></th>\n",
       "      <th>Current Loan Amount</th>\n",
       "      <th>Credit Score</th>\n",
       "      <th>Annual Income</th>\n",
       "      <th>Monthly Debt</th>\n",
       "      <th>Years of Credit History</th>\n",
       "      <th>Months since last delinquent</th>\n",
       "      <th>Number of Open Accounts</th>\n",
       "      <th>Number of Credit Problems</th>\n",
       "      <th>Current Credit Balance</th>\n",
       "      <th>Maximum Open Credit</th>\n",
       "      <th>Bankruptcies</th>\n",
       "      <th>Tax Liens</th>\n",
       "    </tr>\n",
       "  </thead>\n",
       "  <tbody>\n",
       "    <tr>\n",
       "      <th>count</th>\n",
       "      <td>8.978500e+04</td>\n",
       "      <td>89785.000000</td>\n",
       "      <td>8.978500e+04</td>\n",
       "      <td>89785.000000</td>\n",
       "      <td>89785.000000</td>\n",
       "      <td>89785.000000</td>\n",
       "      <td>89785.000000</td>\n",
       "      <td>89785.000000</td>\n",
       "      <td>8.978500e+04</td>\n",
       "      <td>8.978500e+04</td>\n",
       "      <td>89785.000000</td>\n",
       "      <td>89785.000000</td>\n",
       "    </tr>\n",
       "    <tr>\n",
       "      <th>mean</th>\n",
       "      <td>1.306089e+07</td>\n",
       "      <td>718.669188</td>\n",
       "      <td>1.375894e+06</td>\n",
       "      <td>18396.906410</td>\n",
       "      <td>18.248642</td>\n",
       "      <td>34.988862</td>\n",
       "      <td>11.123250</td>\n",
       "      <td>0.164983</td>\n",
       "      <td>2.940351e+05</td>\n",
       "      <td>7.756565e+05</td>\n",
       "      <td>0.115287</td>\n",
       "      <td>0.028602</td>\n",
       "    </tr>\n",
       "    <tr>\n",
       "      <th>std</th>\n",
       "      <td>3.329556e+07</td>\n",
       "      <td>24.947545</td>\n",
       "      <td>9.799392e+05</td>\n",
       "      <td>12145.282372</td>\n",
       "      <td>7.034607</td>\n",
       "      <td>14.953379</td>\n",
       "      <td>4.998884</td>\n",
       "      <td>0.478010</td>\n",
       "      <td>3.722277e+05</td>\n",
       "      <td>8.803419e+06</td>\n",
       "      <td>0.347591</td>\n",
       "      <td>0.255095</td>\n",
       "    </tr>\n",
       "    <tr>\n",
       "      <th>min</th>\n",
       "      <td>1.080200e+04</td>\n",
       "      <td>585.000000</td>\n",
       "      <td>7.662700e+04</td>\n",
       "      <td>0.000000</td>\n",
       "      <td>3.600000</td>\n",
       "      <td>0.000000</td>\n",
       "      <td>0.000000</td>\n",
       "      <td>0.000000</td>\n",
       "      <td>0.000000e+00</td>\n",
       "      <td>0.000000e+00</td>\n",
       "      <td>0.000000</td>\n",
       "      <td>0.000000</td>\n",
       "    </tr>\n",
       "    <tr>\n",
       "      <th>25%</th>\n",
       "      <td>1.802680e+05</td>\n",
       "      <td>713.000000</td>\n",
       "      <td>9.379350e+05</td>\n",
       "      <td>10157.400000</td>\n",
       "      <td>13.500000</td>\n",
       "      <td>35.000000</td>\n",
       "      <td>8.000000</td>\n",
       "      <td>0.000000</td>\n",
       "      <td>1.129360e+05</td>\n",
       "      <td>2.770680e+05</td>\n",
       "      <td>0.000000</td>\n",
       "      <td>0.000000</td>\n",
       "    </tr>\n",
       "    <tr>\n",
       "      <th>50%</th>\n",
       "      <td>3.138740e+05</td>\n",
       "      <td>719.000000</td>\n",
       "      <td>1.375894e+06</td>\n",
       "      <td>16140.310000</td>\n",
       "      <td>17.000000</td>\n",
       "      <td>35.000000</td>\n",
       "      <td>10.000000</td>\n",
       "      <td>0.000000</td>\n",
       "      <td>2.097220e+05</td>\n",
       "      <td>4.727140e+05</td>\n",
       "      <td>0.000000</td>\n",
       "      <td>0.000000</td>\n",
       "    </tr>\n",
       "    <tr>\n",
       "      <th>75%</th>\n",
       "      <td>5.323780e+05</td>\n",
       "      <td>737.000000</td>\n",
       "      <td>1.495680e+06</td>\n",
       "      <td>23918.910000</td>\n",
       "      <td>21.700000</td>\n",
       "      <td>35.000000</td>\n",
       "      <td>14.000000</td>\n",
       "      <td>0.000000</td>\n",
       "      <td>3.675170e+05</td>\n",
       "      <td>7.914500e+05</td>\n",
       "      <td>0.000000</td>\n",
       "      <td>0.000000</td>\n",
       "    </tr>\n",
       "    <tr>\n",
       "      <th>max</th>\n",
       "      <td>1.000000e+08</td>\n",
       "      <td>751.000000</td>\n",
       "      <td>1.655574e+08</td>\n",
       "      <td>435843.280000</td>\n",
       "      <td>70.500000</td>\n",
       "      <td>176.000000</td>\n",
       "      <td>76.000000</td>\n",
       "      <td>15.000000</td>\n",
       "      <td>3.287897e+07</td>\n",
       "      <td>1.539738e+09</td>\n",
       "      <td>7.000000</td>\n",
       "      <td>15.000000</td>\n",
       "    </tr>\n",
       "  </tbody>\n",
       "</table>\n",
       "</div>"
      ],
      "text/plain": [
       "       Current Loan Amount  Credit Score  Annual Income   Monthly Debt  \\\n",
       "count         8.978500e+04  89785.000000   8.978500e+04   89785.000000   \n",
       "mean          1.306089e+07    718.669188   1.375894e+06   18396.906410   \n",
       "std           3.329556e+07     24.947545   9.799392e+05   12145.282372   \n",
       "min           1.080200e+04    585.000000   7.662700e+04       0.000000   \n",
       "25%           1.802680e+05    713.000000   9.379350e+05   10157.400000   \n",
       "50%           3.138740e+05    719.000000   1.375894e+06   16140.310000   \n",
       "75%           5.323780e+05    737.000000   1.495680e+06   23918.910000   \n",
       "max           1.000000e+08    751.000000   1.655574e+08  435843.280000   \n",
       "\n",
       "       Years of Credit History  Months since last delinquent  \\\n",
       "count             89785.000000                  89785.000000   \n",
       "mean                 18.248642                     34.988862   \n",
       "std                   7.034607                     14.953379   \n",
       "min                   3.600000                      0.000000   \n",
       "25%                  13.500000                     35.000000   \n",
       "50%                  17.000000                     35.000000   \n",
       "75%                  21.700000                     35.000000   \n",
       "max                  70.500000                    176.000000   \n",
       "\n",
       "       Number of Open Accounts  Number of Credit Problems  \\\n",
       "count             89785.000000               89785.000000   \n",
       "mean                 11.123250                   0.164983   \n",
       "std                   4.998884                   0.478010   \n",
       "min                   0.000000                   0.000000   \n",
       "25%                   8.000000                   0.000000   \n",
       "50%                  10.000000                   0.000000   \n",
       "75%                  14.000000                   0.000000   \n",
       "max                  76.000000                  15.000000   \n",
       "\n",
       "       Current Credit Balance  Maximum Open Credit  Bankruptcies     Tax Liens  \n",
       "count            8.978500e+04         8.978500e+04  89785.000000  89785.000000  \n",
       "mean             2.940351e+05         7.756565e+05      0.115287      0.028602  \n",
       "std              3.722277e+05         8.803419e+06      0.347591      0.255095  \n",
       "min              0.000000e+00         0.000000e+00      0.000000      0.000000  \n",
       "25%              1.129360e+05         2.770680e+05      0.000000      0.000000  \n",
       "50%              2.097220e+05         4.727140e+05      0.000000      0.000000  \n",
       "75%              3.675170e+05         7.914500e+05      0.000000      0.000000  \n",
       "max              3.287897e+07         1.539738e+09      7.000000     15.000000  "
      ]
     },
     "execution_count": 118,
     "metadata": {},
     "output_type": "execute_result"
    }
   ],
   "source": [
    "df_train.describe()"
   ]
  },
  {
   "cell_type": "code",
   "execution_count": 119,
   "metadata": {
    "id": "SGAnqorfCBVJ"
   },
   "outputs": [],
   "source": [
    "import seaborn as sns"
   ]
  },
  {
   "cell_type": "code",
   "execution_count": 120,
   "metadata": {
    "colab": {
     "base_uri": "https://localhost:8080/",
     "height": 467
    },
    "id": "R8rKqsEVCGCw",
    "outputId": "f84a2801-10f4-4334-db52-93744a0d58d5"
   },
   "outputs": [
    {
     "data": {
      "text/plain": [
       "<Axes: xlabel='Credit Score', ylabel='Count'>"
      ]
     },
     "execution_count": 120,
     "metadata": {},
     "output_type": "execute_result"
    },
    {
     "data": {
      "image/png": "[encoded data removed]",
      "text/plain": [
       "<Figure size 640x480 with 1 Axes>"
      ]
     },
     "metadata": {},
     "output_type": "display_data"
    }
   ],
   "source": [
    "sns.histplot(df_train['Credit Score'])"
   ]
  },
  {
   "cell_type": "code",
   "execution_count": 121,
   "metadata": {
    "colab": {
     "base_uri": "https://localhost:8080/",
     "height": 470
    },
    "id": "QYZstlOnCWQI",
    "outputId": "b42e9966-0877-49af-fb0c-92f55b046a20"
   },
   "outputs": [
    {
     "data": {
      "text/plain": [
       "<Axes: xlabel='Loan Status', ylabel='Count'>"
      ]
     },
     "execution_count": 121,
     "metadata": {},
     "output_type": "execute_result"
    },
    {
     "data": {
      "image/png": "[encoded data removed]",
      "text/plain": [
       "<Figure size 640x480 with 1 Axes>"
      ]
     },
     "metadata": {},
     "output_type": "display_data"
    }
   ],
   "source": [
    "sns.histplot(df_train['Loan Status'])"
   ]
  },
  {
   "cell_type": "code",
   "execution_count": 122,
   "metadata": {
    "colab": {
     "base_uri": "https://localhost:8080/",
     "height": 467
    },
    "id": "_nHrIYwKCawf",
    "outputId": "d5d4f3b1-d707-4c52-c536-8671477050f3"
   },
   "outputs": [
    {
     "data": {
      "text/plain": [
       "<Axes: xlabel='Home Ownership', ylabel='Count'>"
      ]
     },
     "execution_count": 122,
     "metadata": {},
     "output_type": "execute_result"
    },
    {
     "data": {
      "image/png": "[encoded data removed]",
      "text/plain": [
       "<Figure size 640x480 with 1 Axes>"
      ]
     },
     "metadata": {},
     "output_type": "display_data"
    }
   ],
   "source": [
    "sns.histplot(df_train['Home Ownership'])"
   ]
  },
  {
   "cell_type": "code",
   "execution_count": 123,
   "metadata": {
    "id": "oE8anexPCqb_"
   },
   "outputs": [],
   "source": [
    "df_train['Home Ownership'] = df_train['Home Ownership'].map(lambda x: 'Home Mortgage' if x == 'HaveMortgage' else x)"
   ]
  },
  {
   "cell_type": "code",
   "execution_count": 124,
   "metadata": {
    "colab": {
     "base_uri": "https://localhost:8080/",
     "height": 467
    },
    "id": "y-7CFlLOC1ZW",
    "outputId": "4467ae90-6252-45b9-9cb4-1ccec3df6205"
   },
   "outputs": [
    {
     "data": {
      "text/plain": [
       "<Axes: xlabel='Home Ownership', ylabel='Count'>"
      ]
     },
     "execution_count": 124,
     "metadata": {},
     "output_type": "execute_result"
    },
    {
     "data": {
      "image/png": "[encoded data removed]",
      "text/plain": [
       "<Figure size 640x480 with 1 Axes>"
      ]
     },
     "metadata": {},
     "output_type": "display_data"
    }
   ],
   "source": [
    "sns.histplot(df_train['Home Ownership'])"
   ]
  },
  {
   "cell_type": "code",
   "execution_count": 125,
   "metadata": {
    "colab": {
     "base_uri": "https://localhost:8080/",
     "height": 467
    },
    "id": "52rEUWKvC6le",
    "outputId": "087c8835-f0f2-4d68-fe18-e8b68dc65eca"
   },
   "outputs": [
    {
     "data": {
      "text/plain": [
       "<Axes: xlabel='Term', ylabel='Count'>"
      ]
     },
     "execution_count": 125,
     "metadata": {},
     "output_type": "execute_result"
    },
    {
     "data": {
      "image/png": "[encoded data removed]",
      "text/plain": [
       "<Figure size 640x480 with 1 Axes>"
      ]
     },
     "metadata": {},
     "output_type": "display_data"
    }
   ],
   "source": [
    "sns.histplot(df_train['Term'])"
   ]
  },
  {
   "cell_type": "code",
   "execution_count": 126,
   "metadata": {
    "colab": {
     "base_uri": "https://localhost:8080/"
    },
    "id": "gFB6aKw4EC5O",
    "outputId": "ed5432c8-ce4f-4eba-f17b-7f75eb350b79"
   },
   "outputs": [
    {
     "name": "stdout",
     "output_type": "stream",
     "text": [
      "<class 'pandas.core.frame.DataFrame'>\n",
      "Int64Index: 89785 entries, 0 to 99999\n",
      "Data columns (total 17 columns):\n",
      " #   Column                        Non-Null Count  Dtype  \n",
      "---  ------                        --------------  -----  \n",
      " 0   Loan Status                   89785 non-null  object \n",
      " 1   Current Loan Amount           89785 non-null  int64  \n",
      " 2   Term                          89785 non-null  object \n",
      " 3   Credit Score                  89785 non-null  float64\n",
      " 4   Annual Income                 89785 non-null  float64\n",
      " 5   Years in current job          89785 non-null  object \n",
      " 6   Home Ownership                89785 non-null  object \n",
      " 7   Purpose                       89785 non-null  object \n",
      " 8   Monthly Debt                  89785 non-null  float64\n",
      " 9   Years of Credit History       89785 non-null  float64\n",
      " 10  Months since last delinquent  89785 non-null  float64\n",
      " 11  Number of Open Accounts       89785 non-null  int64  \n",
      " 12  Number of Credit Problems     89785 non-null  int64  \n",
      " 13  Current Credit Balance        89785 non-null  int64  \n",
      " 14  Maximum Open Credit           89785 non-null  float64\n",
      " 15  Bankruptcies                  89785 non-null  float64\n",
      " 16  Tax Liens                     89785 non-null  float64\n",
      "dtypes: float64(8), int64(4), object(5)\n",
      "memory usage: 12.3+ MB\n"
     ]
    }
   ],
   "source": [
    "df_train.info()"
   ]
  },
  {
   "cell_type": "code",
   "execution_count": 127,
   "metadata": {
    "id": "YcXhQ5LNDGA1"
   },
   "outputs": [],
   "source": [
    "from sklearn.preprocessing import LabelEncoder\n",
    "\n",
    "target_objects = ['Loan Status', 'Term', 'Years in current job', 'Home Ownership', 'Purpose']\n",
    "\n",
    "le = LabelEncoder()\n",
    "for target in target_objects:\n",
    "    df_train[target] = le.fit_transform(df_train[target])"
   ]
  },
  {
   "cell_type": "code",
   "execution_count": 128,
   "metadata": {
    "colab": {
     "base_uri": "https://localhost:8080/",
     "height": 638
    },
    "id": "1MeXKfbdC-wu",
    "outputId": "883bf909-74ea-4b45-c71f-cfa6ea107809"
   },
   "outputs": [
    {
     "data": {
      "text/plain": [
       "<Axes: >"
      ]
     },
     "execution_count": 128,
     "metadata": {},
     "output_type": "execute_result"
    },
    {
     "data": {
      "image/png": "[encoded data removed]",
      "text/plain": [
       "<Figure size 640x480 with 2 Axes>"
      ]
     },
     "metadata": {},
     "output_type": "display_data"
    }
   ],
   "source": [
    "sns.heatmap(df_train.corr(),  cmap='Greens')"
   ]
  },
  {
   "cell_type": "code",
   "execution_count": 129,
   "metadata": {
    "colab": {
     "base_uri": "https://localhost:8080/",
     "height": 241
    },
    "id": "otAkCYYDGXlA",
    "outputId": "5e07f4a2-1563-4db2-8ddb-712e03673a79"
   },
   "outputs": [
    {
     "data": {
      "text/html": [
       "<div>\n",
       "<style scoped>\n",
       "    .dataframe tbody tr th:only-of-type {\n",
       "        vertical-align: middle;\n",
       "    }\n",
       "\n",
       "    .dataframe tbody tr th {\n",
       "        vertical-align: top;\n",
       "    }\n",
       "\n",
       "    .dataframe thead th {\n",
       "        text-align: right;\n",
       "    }\n",
       "</style>\n",
       "<table border=\"1\" class=\"dataframe\">\n",
       "  <thead>\n",
       "    <tr style=\"text-align: right;\">\n",
       "      <th></th>\n",
       "      <th>Loan Status</th>\n",
       "      <th>Current Loan Amount</th>\n",
       "      <th>Term</th>\n",
       "      <th>Credit Score</th>\n",
       "      <th>Annual Income</th>\n",
       "      <th>Years in current job</th>\n",
       "      <th>Home Ownership</th>\n",
       "      <th>Purpose</th>\n",
       "      <th>Monthly Debt</th>\n",
       "      <th>Years of Credit History</th>\n",
       "      <th>Months since last delinquent</th>\n",
       "      <th>Number of Open Accounts</th>\n",
       "      <th>Number of Credit Problems</th>\n",
       "      <th>Current Credit Balance</th>\n",
       "      <th>Maximum Open Credit</th>\n",
       "      <th>Bankruptcies</th>\n",
       "      <th>Tax Liens</th>\n",
       "    </tr>\n",
       "  </thead>\n",
       "  <tbody>\n",
       "    <tr>\n",
       "      <th>0</th>\n",
       "      <td>1</td>\n",
       "      <td>445412</td>\n",
       "      <td>1</td>\n",
       "      <td>709.0</td>\n",
       "      <td>1167493.0</td>\n",
       "      <td>8</td>\n",
       "      <td>0</td>\n",
       "      <td>5</td>\n",
       "      <td>5214.74</td>\n",
       "      <td>17.2</td>\n",
       "      <td>35.0</td>\n",
       "      <td>6</td>\n",
       "      <td>1</td>\n",
       "      <td>228190</td>\n",
       "      <td>416746.0</td>\n",
       "      <td>1.0</td>\n",
       "      <td>0.0</td>\n",
       "    </tr>\n",
       "    <tr>\n",
       "      <th>1</th>\n",
       "      <td>1</td>\n",
       "      <td>262328</td>\n",
       "      <td>1</td>\n",
       "      <td>719.0</td>\n",
       "      <td>1375894.0</td>\n",
       "      <td>1</td>\n",
       "      <td>0</td>\n",
       "      <td>3</td>\n",
       "      <td>33295.98</td>\n",
       "      <td>21.1</td>\n",
       "      <td>8.0</td>\n",
       "      <td>35</td>\n",
       "      <td>0</td>\n",
       "      <td>229976</td>\n",
       "      <td>850784.0</td>\n",
       "      <td>0.0</td>\n",
       "      <td>0.0</td>\n",
       "    </tr>\n",
       "    <tr>\n",
       "      <th>2</th>\n",
       "      <td>1</td>\n",
       "      <td>99999999</td>\n",
       "      <td>1</td>\n",
       "      <td>741.0</td>\n",
       "      <td>2231892.0</td>\n",
       "      <td>8</td>\n",
       "      <td>1</td>\n",
       "      <td>3</td>\n",
       "      <td>29200.53</td>\n",
       "      <td>14.9</td>\n",
       "      <td>29.0</td>\n",
       "      <td>18</td>\n",
       "      <td>1</td>\n",
       "      <td>297996</td>\n",
       "      <td>750090.0</td>\n",
       "      <td>0.0</td>\n",
       "      <td>0.0</td>\n",
       "    </tr>\n",
       "    <tr>\n",
       "      <th>3</th>\n",
       "      <td>1</td>\n",
       "      <td>347666</td>\n",
       "      <td>0</td>\n",
       "      <td>721.0</td>\n",
       "      <td>806949.0</td>\n",
       "      <td>3</td>\n",
       "      <td>1</td>\n",
       "      <td>3</td>\n",
       "      <td>8741.90</td>\n",
       "      <td>12.0</td>\n",
       "      <td>35.0</td>\n",
       "      <td>9</td>\n",
       "      <td>0</td>\n",
       "      <td>256329</td>\n",
       "      <td>386958.0</td>\n",
       "      <td>0.0</td>\n",
       "      <td>0.0</td>\n",
       "    </tr>\n",
       "    <tr>\n",
       "      <th>4</th>\n",
       "      <td>1</td>\n",
       "      <td>176220</td>\n",
       "      <td>1</td>\n",
       "      <td>719.0</td>\n",
       "      <td>1375894.0</td>\n",
       "      <td>5</td>\n",
       "      <td>2</td>\n",
       "      <td>3</td>\n",
       "      <td>20639.70</td>\n",
       "      <td>6.1</td>\n",
       "      <td>35.0</td>\n",
       "      <td>15</td>\n",
       "      <td>0</td>\n",
       "      <td>253460</td>\n",
       "      <td>427174.0</td>\n",
       "      <td>0.0</td>\n",
       "      <td>0.0</td>\n",
       "    </tr>\n",
       "  </tbody>\n",
       "</table>\n",
       "</div>"
      ],
      "text/plain": [
       "   Loan Status  Current Loan Amount  Term  Credit Score  Annual Income  \\\n",
       "0            1               445412     1         709.0      1167493.0   \n",
       "1            1               262328     1         719.0      1375894.0   \n",
       "2            1             99999999     1         741.0      2231892.0   \n",
       "3            1               347666     0         721.0       806949.0   \n",
       "4            1               176220     1         719.0      1375894.0   \n",
       "\n",
       "   Years in current job  Home Ownership  Purpose  Monthly Debt  \\\n",
       "0                     8               0        5       5214.74   \n",
       "1                     1               0        3      33295.98   \n",
       "2                     8               1        3      29200.53   \n",
       "3                     3               1        3       8741.90   \n",
       "4                     5               2        3      20639.70   \n",
       "\n",
       "   Years of Credit History  Months since last delinquent  \\\n",
       "0                     17.2                          35.0   \n",
       "1                     21.1                           8.0   \n",
       "2                     14.9                          29.0   \n",
       "3                     12.0                          35.0   \n",
       "4                      6.1                          35.0   \n",
       "\n",
       "   Number of Open Accounts  Number of Credit Problems  Current Credit Balance  \\\n",
       "0                        6                          1                  228190   \n",
       "1                       35                          0                  229976   \n",
       "2                       18                          1                  297996   \n",
       "3                        9                          0                  256329   \n",
       "4                       15                          0                  253460   \n",
       "\n",
       "   Maximum Open Credit  Bankruptcies  Tax Liens  \n",
       "0             416746.0           1.0        0.0  \n",
       "1             850784.0           0.0        0.0  \n",
       "2             750090.0           0.0        0.0  \n",
       "3             386958.0           0.0        0.0  \n",
       "4             427174.0           0.0        0.0  "
      ]
     },
     "execution_count": 129,
     "metadata": {},
     "output_type": "execute_result"
    }
   ],
   "source": [
    "df_train.head()"
   ]
  },
  {
   "cell_type": "code",
   "execution_count": 130,
   "metadata": {
    "id": "b_8wZnP4FR4K"
   },
   "outputs": [],
   "source": [
    "from sklearn.preprocessing import StandardScaler\n",
    "\n",
    "target_scaler = ['Current Loan Amount', 'Credit Score', 'Annual Income',\n",
    "                 'Years in current job', 'Home Ownership', 'Purpose\t',\n",
    "                 'Monthly Debt', 'Years of Credit History',\n",
    "                 'Months since last delinquent', 'Number of Open Accounts',\n",
    "                 'Number of Credit Problems', 'Current Credit Balance',\n",
    "                 'Maximum Open Credit', 'Bankruptcies', 'Tax Liens']\n",
    "\n",
    "scaler = StandardScaler()\n",
    "df_train_scaled = pd.DataFrame(scaler.fit_transform(df_train.drop(columns='Loan Status'), target_scaler))"
   ]
  },
  {
   "cell_type": "code",
   "execution_count": 131,
   "metadata": {
    "colab": {
     "base_uri": "https://localhost:8080/",
     "height": 206
    },
    "id": "MqOd2Dj9GpLQ",
    "outputId": "86e54a10-f8ef-4318-de7f-6c400735de8e"
   },
   "outputs": [
    {
     "data": {
      "text/html": [
       "<div>\n",
       "<style scoped>\n",
       "    .dataframe tbody tr th:only-of-type {\n",
       "        vertical-align: middle;\n",
       "    }\n",
       "\n",
       "    .dataframe tbody tr th {\n",
       "        vertical-align: top;\n",
       "    }\n",
       "\n",
       "    .dataframe thead th {\n",
       "        text-align: right;\n",
       "    }\n",
       "</style>\n",
       "<table border=\"1\" class=\"dataframe\">\n",
       "  <thead>\n",
       "    <tr style=\"text-align: right;\">\n",
       "      <th></th>\n",
       "      <th>0</th>\n",
       "      <th>1</th>\n",
       "      <th>2</th>\n",
       "      <th>3</th>\n",
       "      <th>4</th>\n",
       "      <th>5</th>\n",
       "      <th>6</th>\n",
       "      <th>7</th>\n",
       "      <th>8</th>\n",
       "      <th>9</th>\n",
       "      <th>10</th>\n",
       "      <th>11</th>\n",
       "      <th>12</th>\n",
       "      <th>13</th>\n",
       "      <th>14</th>\n",
       "      <th>15</th>\n",
       "    </tr>\n",
       "  </thead>\n",
       "  <tbody>\n",
       "    <tr>\n",
       "      <th>0</th>\n",
       "      <td>-0.378896</td>\n",
       "      <td>0.599921</td>\n",
       "      <td>-0.387583</td>\n",
       "      <td>-2.126688e-01</td>\n",
       "      <td>1.378078</td>\n",
       "      <td>-0.982709</td>\n",
       "      <td>0.539219</td>\n",
       "      <td>-1.085379</td>\n",
       "      <td>-0.149070</td>\n",
       "      <td>0.000745</td>\n",
       "      <td>-1.024884</td>\n",
       "      <td>1.746869</td>\n",
       "      <td>-0.176896</td>\n",
       "      <td>-0.040770</td>\n",
       "      <td>2.545284</td>\n",
       "      <td>-0.112122</td>\n",
       "    </tr>\n",
       "    <tr>\n",
       "      <th>1</th>\n",
       "      <td>-0.384395</td>\n",
       "      <td>0.599921</td>\n",
       "      <td>0.013260</td>\n",
       "      <td>-3.112293e-07</td>\n",
       "      <td>-0.835884</td>\n",
       "      <td>-0.982709</td>\n",
       "      <td>-0.350340</td>\n",
       "      <td>1.226744</td>\n",
       "      <td>0.405335</td>\n",
       "      <td>-1.804877</td>\n",
       "      <td>4.776443</td>\n",
       "      <td>-0.345147</td>\n",
       "      <td>-0.172098</td>\n",
       "      <td>0.008534</td>\n",
       "      <td>-0.331675</td>\n",
       "      <td>-0.112122</td>\n",
       "    </tr>\n",
       "    <tr>\n",
       "      <th>2</th>\n",
       "      <td>2.611147</td>\n",
       "      <td>0.599921</td>\n",
       "      <td>0.895116</td>\n",
       "      <td>8.735261e-01</td>\n",
       "      <td>1.378078</td>\n",
       "      <td>0.068817</td>\n",
       "      <td>-0.350340</td>\n",
       "      <td>0.889537</td>\n",
       "      <td>-0.476027</td>\n",
       "      <td>-0.400505</td>\n",
       "      <td>1.375665</td>\n",
       "      <td>1.746869</td>\n",
       "      <td>0.010641</td>\n",
       "      <td>-0.002904</td>\n",
       "      <td>-0.331675</td>\n",
       "      <td>-0.112122</td>\n",
       "    </tr>\n",
       "    <tr>\n",
       "      <th>3</th>\n",
       "      <td>-0.381832</td>\n",
       "      <td>-1.666887</td>\n",
       "      <td>0.093429</td>\n",
       "      <td>-5.805957e-01</td>\n",
       "      <td>-0.203323</td>\n",
       "      <td>0.068817</td>\n",
       "      <td>-0.350340</td>\n",
       "      <td>-0.794964</td>\n",
       "      <td>-0.888277</td>\n",
       "      <td>0.000745</td>\n",
       "      <td>-0.424747</td>\n",
       "      <td>-0.345147</td>\n",
       "      <td>-0.101299</td>\n",
       "      <td>-0.044153</td>\n",
       "      <td>-0.331675</td>\n",
       "      <td>-0.112122</td>\n",
       "    </tr>\n",
       "    <tr>\n",
       "      <th>4</th>\n",
       "      <td>-0.386981</td>\n",
       "      <td>0.599921</td>\n",
       "      <td>0.013260</td>\n",
       "      <td>-3.112293e-07</td>\n",
       "      <td>0.429237</td>\n",
       "      <td>1.120343</td>\n",
       "      <td>-0.350340</td>\n",
       "      <td>0.184665</td>\n",
       "      <td>-1.726992</td>\n",
       "      <td>0.000745</td>\n",
       "      <td>0.775527</td>\n",
       "      <td>-0.345147</td>\n",
       "      <td>-0.109007</td>\n",
       "      <td>-0.039585</td>\n",
       "      <td>-0.331675</td>\n",
       "      <td>-0.112122</td>\n",
       "    </tr>\n",
       "  </tbody>\n",
       "</table>\n",
       "</div>"
      ],
      "text/plain": [
       "         0         1         2             3         4         5         6   \\\n",
       "0 -0.378896  0.599921 -0.387583 -2.126688e-01  1.378078 -0.982709  0.539219   \n",
       "1 -0.384395  0.599921  0.013260 -3.112293e-07 -0.835884 -0.982709 -0.350340   \n",
       "2  2.611147  0.599921  0.895116  8.735261e-01  1.378078  0.068817 -0.350340   \n",
       "3 -0.381832 -1.666887  0.093429 -5.805957e-01 -0.203323  0.068817 -0.350340   \n",
       "4 -0.386981  0.599921  0.013260 -3.112293e-07  0.429237  1.120343 -0.350340   \n",
       "\n",
       "         7         8         9         10        11        12        13  \\\n",
       "0 -1.085379 -0.149070  0.000745 -1.024884  1.746869 -0.176896 -0.040770   \n",
       "1  1.226744  0.405335 -1.804877  4.776443 -0.345147 -0.172098  0.008534   \n",
       "2  0.889537 -0.476027 -0.400505  1.375665  1.746869  0.010641 -0.002904   \n",
       "3 -0.794964 -0.888277  0.000745 -0.424747 -0.345147 -0.101299 -0.044153   \n",
       "4  0.184665 -1.726992  0.000745  0.775527 -0.345147 -0.109007 -0.039585   \n",
       "\n",
       "         14        15  \n",
       "0  2.545284 -0.112122  \n",
       "1 -0.331675 -0.112122  \n",
       "2 -0.331675 -0.112122  \n",
       "3 -0.331675 -0.112122  \n",
       "4 -0.331675 -0.112122  "
      ]
     },
     "execution_count": 131,
     "metadata": {},
     "output_type": "execute_result"
    }
   ],
   "source": [
    "df_train_scaled.head()"
   ]
  },
  {
   "cell_type": "code",
   "execution_count": 132,
   "metadata": {
    "id": "q55MyrHkH3tW"
   },
   "outputs": [],
   "source": [
    "from sklearn.metrics import classification_report, confusion_matrix, accuracy_score\n",
    "from sklearn.model_selection import train_test_split"
   ]
  },
  {
   "cell_type": "code",
   "execution_count": 133,
   "metadata": {
    "id": "OQpmwjdh0aKS"
   },
   "outputs": [],
   "source": [
    "x_train, x_test, y_train, y_test = train_test_split(df_train_scaled, df_train['Loan Status'])"
   ]
  },
  {
   "cell_type": "code",
   "execution_count": 151,
   "metadata": {
    "colab": {
     "base_uri": "https://localhost:8080/"
    },
    "id": "iKJu8wILz1HZ",
    "outputId": "472d9963-24b3-454e-aa85-be0942b82f62"
   },
   "outputs": [
    {
     "name": "stderr",
     "output_type": "stream",
     "text": [
      "C:\\Users\\Egor\\anaconda3\\Lib\\site-packages\\sklearn\\model_selection\\_validation.py:425: FitFailedWarning: \n",
      "100 fits failed out of a total of 240.\n",
      "The score on these train-test partitions for these parameters will be set to nan.\n",
      "If these failures are not expected, you can try to debug them by setting error_score='raise'.\n",
      "\n",
      "Below are more details about the failures:\n",
      "--------------------------------------------------------------------------------\n",
      "20 fits failed with the following error:\n",
      "Traceback (most recent call last):\n",
      "  File \"C:\\Users\\Egor\\anaconda3\\Lib\\site-packages\\sklearn\\model_selection\\_validation.py\", line 732, in _fit_and_score\n",
      "    estimator.fit(X_train, y_train, **fit_params)\n",
      "  File \"C:\\Users\\Egor\\anaconda3\\Lib\\site-packages\\sklearn\\base.py\", line 1151, in wrapper\n",
      "    return fit_method(estimator, *args, **kwargs)\n",
      "           ^^^^^^^^^^^^^^^^^^^^^^^^^^^^^^^^^^^^^^\n",
      "  File \"C:\\Users\\Egor\\anaconda3\\Lib\\site-packages\\sklearn\\linear_model\\_logistic.py\", line 1168, in fit\n",
      "    solver = _check_solver(self.solver, self.penalty, self.dual)\n",
      "             ^^^^^^^^^^^^^^^^^^^^^^^^^^^^^^^^^^^^^^^^^^^^^^^^^^^\n",
      "  File \"C:\\Users\\Egor\\anaconda3\\Lib\\site-packages\\sklearn\\linear_model\\_logistic.py\", line 56, in _check_solver\n",
      "    raise ValueError(\n",
      "ValueError: Solver lbfgs supports only 'l2' or 'none' penalties, got l1 penalty.\n",
      "\n",
      "--------------------------------------------------------------------------------\n",
      "20 fits failed with the following error:\n",
      "Traceback (most recent call last):\n",
      "  File \"C:\\Users\\Egor\\anaconda3\\Lib\\site-packages\\sklearn\\model_selection\\_validation.py\", line 732, in _fit_and_score\n",
      "    estimator.fit(X_train, y_train, **fit_params)\n",
      "  File \"C:\\Users\\Egor\\anaconda3\\Lib\\site-packages\\sklearn\\base.py\", line 1151, in wrapper\n",
      "    return fit_method(estimator, *args, **kwargs)\n",
      "           ^^^^^^^^^^^^^^^^^^^^^^^^^^^^^^^^^^^^^^\n",
      "  File \"C:\\Users\\Egor\\anaconda3\\Lib\\site-packages\\sklearn\\linear_model\\_logistic.py\", line 1178, in fit\n",
      "    raise ValueError(\"l1_ratio must be specified when penalty is elasticnet.\")\n",
      "ValueError: l1_ratio must be specified when penalty is elasticnet.\n",
      "\n",
      "--------------------------------------------------------------------------------\n",
      "20 fits failed with the following error:\n",
      "Traceback (most recent call last):\n",
      "  File \"C:\\Users\\Egor\\anaconda3\\Lib\\site-packages\\sklearn\\model_selection\\_validation.py\", line 732, in _fit_and_score\n",
      "    estimator.fit(X_train, y_train, **fit_params)\n",
      "  File \"C:\\Users\\Egor\\anaconda3\\Lib\\site-packages\\sklearn\\base.py\", line 1151, in wrapper\n",
      "    return fit_method(estimator, *args, **kwargs)\n",
      "           ^^^^^^^^^^^^^^^^^^^^^^^^^^^^^^^^^^^^^^\n",
      "  File \"C:\\Users\\Egor\\anaconda3\\Lib\\site-packages\\sklearn\\linear_model\\_logistic.py\", line 1168, in fit\n",
      "    solver = _check_solver(self.solver, self.penalty, self.dual)\n",
      "             ^^^^^^^^^^^^^^^^^^^^^^^^^^^^^^^^^^^^^^^^^^^^^^^^^^^\n",
      "  File \"C:\\Users\\Egor\\anaconda3\\Lib\\site-packages\\sklearn\\linear_model\\_logistic.py\", line 56, in _check_solver\n",
      "    raise ValueError(\n",
      "ValueError: Solver lbfgs supports only 'l2' or 'none' penalties, got elasticnet penalty.\n",
      "\n",
      "--------------------------------------------------------------------------------\n",
      "20 fits failed with the following error:\n",
      "Traceback (most recent call last):\n",
      "  File \"C:\\Users\\Egor\\anaconda3\\Lib\\site-packages\\sklearn\\model_selection\\_validation.py\", line 732, in _fit_and_score\n",
      "    estimator.fit(X_train, y_train, **fit_params)\n",
      "  File \"C:\\Users\\Egor\\anaconda3\\Lib\\site-packages\\sklearn\\base.py\", line 1151, in wrapper\n",
      "    return fit_method(estimator, *args, **kwargs)\n",
      "           ^^^^^^^^^^^^^^^^^^^^^^^^^^^^^^^^^^^^^^\n",
      "  File \"C:\\Users\\Egor\\anaconda3\\Lib\\site-packages\\sklearn\\linear_model\\_logistic.py\", line 1168, in fit\n",
      "    solver = _check_solver(self.solver, self.penalty, self.dual)\n",
      "             ^^^^^^^^^^^^^^^^^^^^^^^^^^^^^^^^^^^^^^^^^^^^^^^^^^^\n",
      "  File \"C:\\Users\\Egor\\anaconda3\\Lib\\site-packages\\sklearn\\linear_model\\_logistic.py\", line 66, in _check_solver\n",
      "    raise ValueError(\n",
      "ValueError: Only 'saga' solver supports elasticnet penalty, got solver=liblinear.\n",
      "\n",
      "--------------------------------------------------------------------------------\n",
      "20 fits failed with the following error:\n",
      "Traceback (most recent call last):\n",
      "  File \"C:\\Users\\Egor\\anaconda3\\Lib\\site-packages\\sklearn\\model_selection\\_validation.py\", line 732, in _fit_and_score\n",
      "    estimator.fit(X_train, y_train, **fit_params)\n",
      "  File \"C:\\Users\\Egor\\anaconda3\\Lib\\site-packages\\sklearn\\base.py\", line 1151, in wrapper\n",
      "    return fit_method(estimator, *args, **kwargs)\n",
      "           ^^^^^^^^^^^^^^^^^^^^^^^^^^^^^^^^^^^^^^\n",
      "  File \"C:\\Users\\Egor\\anaconda3\\Lib\\site-packages\\sklearn\\linear_model\\_logistic.py\", line 1168, in fit\n",
      "    solver = _check_solver(self.solver, self.penalty, self.dual)\n",
      "             ^^^^^^^^^^^^^^^^^^^^^^^^^^^^^^^^^^^^^^^^^^^^^^^^^^^\n",
      "  File \"C:\\Users\\Egor\\anaconda3\\Lib\\site-packages\\sklearn\\linear_model\\_logistic.py\", line 73, in _check_solver\n",
      "    raise ValueError(\"penalty='none' is not supported for the liblinear solver\")\n",
      "ValueError: penalty='none' is not supported for the liblinear solver\n",
      "\n",
      "  warnings.warn(some_fits_failed_message, FitFailedWarning)\n",
      "C:\\Users\\Egor\\anaconda3\\Lib\\site-packages\\sklearn\\model_selection\\_search.py:976: UserWarning: One or more of the test scores are non-finite: [0.74792835        nan 0.7479135  0.74775015 0.7477947  0.7478244\n",
      "        nan        nan        nan 0.74792835 0.74789865        nan\n",
      " 0.74773529        nan 0.74772044 0.74780955 0.7477947  0.74780955\n",
      "        nan        nan        nan 0.74792835 0.74789865        nan\n",
      " 0.7478838         nan 0.74795805 0.74789865 0.74795805 0.74795805\n",
      "        nan        nan        nan 0.74792835 0.74789865        nan\n",
      " 0.74792835        nan 0.74792835 0.74792835 0.74792835 0.74792835\n",
      "        nan        nan        nan 0.74792835 0.74789865        nan]\n",
      "  warnings.warn(\n"
     ]
    },
    {
     "name": "stdout",
     "output_type": "stream",
     "text": [
      "Лучшие параметры: {'C': 1, 'penalty': 'l2', 'solver': 'lbfgs'}\n",
      "Accuracy: 0.7507462021651\n",
      "              precision    recall  f1-score   support\n",
      "\n",
      "           0       0.56      0.04      0.08      5649\n",
      "           1       0.75      0.99      0.86     16798\n",
      "\n",
      "    accuracy                           0.75     22447\n",
      "   macro avg       0.66      0.52      0.47     22447\n",
      "weighted avg       0.71      0.75      0.66     22447\n",
      "\n",
      "[[  245  5404]\n",
      " [  191 16607]]\n"
     ]
    }
   ],
   "source": [
    "from sklearn.linear_model import LogisticRegression\n",
    "from sklearn.model_selection import GridSearchCV\n",
    "from sklearn.metrics import accuracy_score, classification_report, confusion_matrix\n",
    "\n",
    "# Определяем параметры для перебора\n",
    "param_grid = {\n",
    "    'penalty': ['l1', 'l2', 'elasticnet', 'none'],\n",
    "    'C': [0.01, 0.1, 1, 10],\n",
    "    'solver': ['saga', 'lbfgs', 'liblinear']\n",
    "}\n",
    "\n",
    "# Создаем модель логистической регрессии\n",
    "lr = LogisticRegression(max_iter=1000)\n",
    "\n",
    "# GridSearch для поиска лучших параметров\n",
    "grid_search = GridSearchCV(estimator=lr, param_grid=param_grid, scoring='accuracy', cv=5, n_jobs=-1)\n",
    "grid_search.fit(x_train, y_train)\n",
    "\n",
    "# Лучшая модель и её параметры\n",
    "best_model = grid_search.best_estimator_\n",
    "print(\"Лучшие параметры:\", grid_search.best_params_)\n",
    "\n",
    "# Предсказание на тестовых данных\n",
    "pred = best_model.predict(x_test)\n",
    "\n",
    "# Вывод метрик\n",
    "print(f'Accuracy: {accuracy_score(y_test, pred)}')\n",
    "print(classification_report(y_test, pred))\n",
    "print(confusion_matrix(y_test, pred))\n",
    "from sklearn.linear_model import RidgeClassifier\n",
    "from sklearn.model_selection import GridSearchCV\n",
    "from sklearn.metrics import accuracy_score, classification_report, confusion_matrix\n",
    "\n",
    "# Определяем параметры для перебора\n",
    "param_grid = {\n",
    "    'alpha': [0.1, 1, 10, 100],\n",
    "    'solver': ['auto', 'svd', 'cholesky', 'lsqr', 'sparse_cg', 'sag', 'saga']\n",
    "}\n",
    "\n",
    "# Создаем модель RidgeClassifier\n",
    "rc = RidgeClassifier()\n",
    "\n",
    "# GridSearch для поиска лучших параметров\n",
    "grid_search = GridSearchCV(estimator=rc, param_grid=param_grid, scoring='accuracy', cv=5, n_jobs=-1)\n",
    "grid_search.fit(x_train, y_train)\n",
    "\n",
    "# Лучшая модель и её параметры\n",
    "best_model = grid_search.best_estimator_\n",
    "print(\"Лучшие параметры:\", grid_search.best_params_)\n",
    "\n",
    "# Предсказание на тестовых данных\n",
    "pred = best_model.predict(x_test)\n",
    "\n",
    "# Вывод метрик\n",
    "print(f'Accuracy: {accuracy_score(y_test, pred)}')\n",
    "print(classification_report(y_test, pred))\n",
    "print(confusion_matrix(y_test, pred))\n"
   ]
  },
  {
   "cell_type": "code",
   "execution_count": 153,
   "metadata": {
    "colab": {
     "base_uri": "https://localhost:8080/"
    },
    "id": "Ul_w9aKb4c7n",
    "outputId": "27cd4777-8b5d-4319-94c5-d6fc5cbc6aae"
   },
   "outputs": [
    {
     "name": "stdout",
     "output_type": "stream",
     "text": [
      "Лучшие параметры: {'alpha': 10, 'solver': 'lsqr'}\n",
      "Accuracy: 0.7492760725263955\n",
      "              precision    recall  f1-score   support\n",
      "\n",
      "           0       0.61      0.01      0.02      5649\n",
      "           1       0.75      1.00      0.86     16798\n",
      "\n",
      "    accuracy                           0.75     22447\n",
      "   macro avg       0.68      0.50      0.44     22447\n",
      "weighted avg       0.72      0.75      0.65     22447\n",
      "\n",
      "[[   57  5592]\n",
      " [   36 16762]]\n"
     ]
    }
   ],
   "source": [
    "from sklearn.linear_model import RidgeClassifier\n",
    "from sklearn.model_selection import GridSearchCV\n",
    "from sklearn.metrics import accuracy_score, classification_report, confusion_matrix\n",
    "\n",
    "# Определяем параметры для перебора\n",
    "param_grid = {\n",
    "    'alpha': [0.1, 1, 10, 100],\n",
    "    'solver': ['auto', 'svd', 'cholesky', 'lsqr', 'sparse_cg', 'sag', 'saga']\n",
    "}\n",
    "\n",
    "# Создаем модель RidgeClassifier\n",
    "rc = RidgeClassifier()\n",
    "\n",
    "# GridSearch для поиска лучших параметров\n",
    "grid_search = GridSearchCV(estimator=rc, param_grid=param_grid, scoring='accuracy', cv=5, n_jobs=-1)\n",
    "grid_search.fit(x_train, y_train)\n",
    "\n",
    "# Лучшая модель и её параметры\n",
    "best_model = grid_search.best_estimator_\n",
    "print(\"Лучшие параметры:\", grid_search.best_params_)\n",
    "\n",
    "# Предсказание на тестовых данных\n",
    "pred = best_model.predict(x_test)\n",
    "\n",
    "# Вывод метрик\n",
    "print(f'Accuracy: {accuracy_score(y_test, pred)}')\n",
    "print(classification_report(y_test, pred))\n",
    "print(confusion_matrix(y_test, pred))\n"
   ]
  },
  {
   "cell_type": "code",
   "execution_count": 136,
   "metadata": {
    "colab": {
     "base_uri": "https://localhost:8080/"
    },
    "id": "RBqxT9IB4vFn",
    "outputId": "fb152347-342a-4234-ec3c-735f4b948d58"
   },
   "outputs": [
    {
     "name": "stdout",
     "output_type": "stream",
     "text": [
      "Accuracy: 0.7483405354835836\n",
      "              precision    recall  f1-score   support\n",
      "\n",
      "           0       0.00      0.00      0.00      5649\n",
      "           1       0.75      1.00      0.86     16798\n",
      "\n",
      "    accuracy                           0.75     22447\n",
      "   macro avg       0.37      0.50      0.43     22447\n",
      "weighted avg       0.56      0.75      0.64     22447\n",
      "\n",
      "[[    0  5649]\n",
      " [    0 16798]]\n"
     ]
    },
    {
     "name": "stderr",
     "output_type": "stream",
     "text": [
      "C:\\Users\\Egor\\anaconda3\\Lib\\site-packages\\sklearn\\metrics\\_classification.py:1469: UndefinedMetricWarning: Precision and F-score are ill-defined and being set to 0.0 in labels with no predicted samples. Use `zero_division` parameter to control this behavior.\n",
      "  _warn_prf(average, modifier, msg_start, len(result))\n",
      "C:\\Users\\Egor\\anaconda3\\Lib\\site-packages\\sklearn\\metrics\\_classification.py:1469: UndefinedMetricWarning: Precision and F-score are ill-defined and being set to 0.0 in labels with no predicted samples. Use `zero_division` parameter to control this behavior.\n",
      "  _warn_prf(average, modifier, msg_start, len(result))\n",
      "C:\\Users\\Egor\\anaconda3\\Lib\\site-packages\\sklearn\\metrics\\_classification.py:1469: UndefinedMetricWarning: Precision and F-score are ill-defined and being set to 0.0 in labels with no predicted samples. Use `zero_division` parameter to control this behavior.\n",
      "  _warn_prf(average, modifier, msg_start, len(result))\n"
     ]
    }
   ],
   "source": [
    "from sklearn.linear_model import SGDClassifier\n",
    "\n",
    "sgdc = SGDClassifier()\n",
    "sgdc.fit(x_train, y_train)\n",
    "pred = sgdc.predict(x_test)\n",
    "print(f'Accuracy: {accuracy_score(y_test, pred)}')\n",
    "print(classification_report(y_test, pred))\n",
    "print(confusion_matrix(y_test, pred))"
   ]
  },
  {
   "cell_type": "code",
   "execution_count": 154,
   "metadata": {
    "colab": {
     "base_uri": "https://localhost:8080/"
    },
    "id": "NPPdVtuB2Oty",
    "outputId": "f6cef074-2152-4d39-a49e-09a4d0941d84"
   },
   "outputs": [
    {
     "name": "stdout",
     "output_type": "stream",
     "text": [
      "Лучшие параметры: {'criterion': 'entropy', 'max_depth': 10, 'min_samples_leaf': 1, 'min_samples_split': 5}\n",
      "Accuracy: 0.7427273132267118\n",
      "              precision    recall  f1-score   support\n",
      "\n",
      "           0       0.41      0.05      0.09      5649\n",
      "           1       0.75      0.98      0.85     16798\n",
      "\n",
      "    accuracy                           0.74     22447\n",
      "   macro avg       0.58      0.51      0.47     22447\n",
      "weighted avg       0.67      0.74      0.66     22447\n",
      "\n",
      "[[  291  5358]\n",
      " [  417 16381]]\n"
     ]
    }
   ],
   "source": [
    "from sklearn.tree import DecisionTreeClassifier\n",
    "from sklearn.model_selection import GridSearchCV\n",
    "from sklearn.metrics import accuracy_score, classification_report, confusion_matrix\n",
    "\n",
    "# Определяем параметры для перебора\n",
    "param_grid = {\n",
    "    'criterion': ['gini', 'entropy', 'log_loss'],\n",
    "    'max_depth': [None, 10, 20, 30],\n",
    "    'min_samples_split': [2, 5, 10],\n",
    "    'min_samples_leaf': [1, 2, 4]\n",
    "}\n",
    "\n",
    "# Создаем модель DecisionTreeClassifier\n",
    "dtc = DecisionTreeClassifier()\n",
    "\n",
    "# GridSearch для поиска лучших параметров\n",
    "grid_search = GridSearchCV(estimator=dtc, param_grid=param_grid, scoring='accuracy', cv=5, n_jobs=-1)\n",
    "grid_search.fit(x_train, y_train)\n",
    "\n",
    "# Лучшая модель и её параметры\n",
    "best_model = grid_search.best_estimator_\n",
    "print(\"Лучшие параметры:\", grid_search.best_params_)\n",
    "\n",
    "# Предсказание на тестовых данных\n",
    "pred = best_model.predict(x_test)\n",
    "\n",
    "# Вывод метрик\n",
    "print(f'Accuracy: {accuracy_score(y_test, pred)}')\n",
    "print(classification_report(y_test, pred))\n",
    "print(confusion_matrix(y_test, pred))\n"
   ]
  },
  {
   "cell_type": "code",
   "execution_count": 155,
   "metadata": {
    "colab": {
     "base_uri": "https://localhost:8080/"
    },
    "id": "Se13CrR43NuC",
    "outputId": "d4ae20ff-7af5-403d-ac26-ef2cec17f529"
   },
   "outputs": [
    {
     "ename": "KeyboardInterrupt",
     "evalue": "",
     "output_type": "error",
     "traceback": [
      "\u001b[1;31m---------------------------------------------------------------------------\u001b[0m",
      "\u001b[1;31mKeyboardInterrupt\u001b[0m                         Traceback (most recent call last)",
      "Cell \u001b[1;32mIn[155], line 19\u001b[0m\n\u001b[0;32m     17\u001b[0m \u001b[38;5;66;03m# GridSearch для поиска лучших параметров\u001b[39;00m\n\u001b[0;32m     18\u001b[0m grid_search \u001b[38;5;241m=\u001b[39m GridSearchCV(estimator\u001b[38;5;241m=\u001b[39mrfc, param_grid\u001b[38;5;241m=\u001b[39mparam_grid, scoring\u001b[38;5;241m=\u001b[39m\u001b[38;5;124m'\u001b[39m\u001b[38;5;124maccuracy\u001b[39m\u001b[38;5;124m'\u001b[39m, cv\u001b[38;5;241m=\u001b[39m\u001b[38;5;241m5\u001b[39m, n_jobs\u001b[38;5;241m=\u001b[39m\u001b[38;5;241m-\u001b[39m\u001b[38;5;241m1\u001b[39m)\n\u001b[1;32m---> 19\u001b[0m grid_search\u001b[38;5;241m.\u001b[39mfit(x_train, y_train)\n\u001b[0;32m     21\u001b[0m \u001b[38;5;66;03m# Лучшая модель и её параметры\u001b[39;00m\n\u001b[0;32m     22\u001b[0m best_model \u001b[38;5;241m=\u001b[39m grid_search\u001b[38;5;241m.\u001b[39mbest_estimator_\n",
      "File \u001b[1;32m~\\anaconda3\\Lib\\site-packages\\sklearn\\base.py:1151\u001b[0m, in \u001b[0;36m_fit_context.<locals>.decorator.<locals>.wrapper\u001b[1;34m(estimator, *args, **kwargs)\u001b[0m\n\u001b[0;32m   1144\u001b[0m     estimator\u001b[38;5;241m.\u001b[39m_validate_params()\n\u001b[0;32m   1146\u001b[0m \u001b[38;5;28;01mwith\u001b[39;00m config_context(\n\u001b[0;32m   1147\u001b[0m     skip_parameter_validation\u001b[38;5;241m=\u001b[39m(\n\u001b[0;32m   1148\u001b[0m         prefer_skip_nested_validation \u001b[38;5;129;01mor\u001b[39;00m global_skip_validation\n\u001b[0;32m   1149\u001b[0m     )\n\u001b[0;32m   1150\u001b[0m ):\n\u001b[1;32m-> 1151\u001b[0m     \u001b[38;5;28;01mreturn\u001b[39;00m fit_method(estimator, \u001b[38;5;241m*\u001b[39margs, \u001b[38;5;241m*\u001b[39m\u001b[38;5;241m*\u001b[39mkwargs)\n",
      "File \u001b[1;32m~\\anaconda3\\Lib\\site-packages\\sklearn\\model_selection\\_search.py:898\u001b[0m, in \u001b[0;36mBaseSearchCV.fit\u001b[1;34m(self, X, y, groups, **fit_params)\u001b[0m\n\u001b[0;32m    892\u001b[0m     results \u001b[38;5;241m=\u001b[39m \u001b[38;5;28mself\u001b[39m\u001b[38;5;241m.\u001b[39m_format_results(\n\u001b[0;32m    893\u001b[0m         all_candidate_params, n_splits, all_out, all_more_results\n\u001b[0;32m    894\u001b[0m     )\n\u001b[0;32m    896\u001b[0m     \u001b[38;5;28;01mreturn\u001b[39;00m results\n\u001b[1;32m--> 898\u001b[0m \u001b[38;5;28mself\u001b[39m\u001b[38;5;241m.\u001b[39m_run_search(evaluate_candidates)\n\u001b[0;32m    900\u001b[0m \u001b[38;5;66;03m# multimetric is determined here because in the case of a callable\u001b[39;00m\n\u001b[0;32m    901\u001b[0m \u001b[38;5;66;03m# self.scoring the return type is only known after calling\u001b[39;00m\n\u001b[0;32m    902\u001b[0m first_test_score \u001b[38;5;241m=\u001b[39m all_out[\u001b[38;5;241m0\u001b[39m][\u001b[38;5;124m\"\u001b[39m\u001b[38;5;124mtest_scores\u001b[39m\u001b[38;5;124m\"\u001b[39m]\n",
      "File \u001b[1;32m~\\anaconda3\\Lib\\site-packages\\sklearn\\model_selection\\_search.py:1419\u001b[0m, in \u001b[0;36mGridSearchCV._run_search\u001b[1;34m(self, evaluate_candidates)\u001b[0m\n\u001b[0;32m   1417\u001b[0m \u001b[38;5;28;01mdef\u001b[39;00m \u001b[38;5;21m_run_search\u001b[39m(\u001b[38;5;28mself\u001b[39m, evaluate_candidates):\n\u001b[0;32m   1418\u001b[0m \u001b[38;5;250m    \u001b[39m\u001b[38;5;124;03m\"\"\"Search all candidates in param_grid\"\"\"\u001b[39;00m\n\u001b[1;32m-> 1419\u001b[0m     evaluate_candidates(ParameterGrid(\u001b[38;5;28mself\u001b[39m\u001b[38;5;241m.\u001b[39mparam_grid))\n",
      "File \u001b[1;32m~\\anaconda3\\Lib\\site-packages\\sklearn\\model_selection\\_search.py:845\u001b[0m, in \u001b[0;36mBaseSearchCV.fit.<locals>.evaluate_candidates\u001b[1;34m(candidate_params, cv, more_results)\u001b[0m\n\u001b[0;32m    837\u001b[0m \u001b[38;5;28;01mif\u001b[39;00m \u001b[38;5;28mself\u001b[39m\u001b[38;5;241m.\u001b[39mverbose \u001b[38;5;241m>\u001b[39m \u001b[38;5;241m0\u001b[39m:\n\u001b[0;32m    838\u001b[0m     \u001b[38;5;28mprint\u001b[39m(\n\u001b[0;32m    839\u001b[0m         \u001b[38;5;124m\"\u001b[39m\u001b[38;5;124mFitting \u001b[39m\u001b[38;5;132;01m{0}\u001b[39;00m\u001b[38;5;124m folds for each of \u001b[39m\u001b[38;5;132;01m{1}\u001b[39;00m\u001b[38;5;124m candidates,\u001b[39m\u001b[38;5;124m\"\u001b[39m\n\u001b[0;32m    840\u001b[0m         \u001b[38;5;124m\"\u001b[39m\u001b[38;5;124m totalling \u001b[39m\u001b[38;5;132;01m{2}\u001b[39;00m\u001b[38;5;124m fits\u001b[39m\u001b[38;5;124m\"\u001b[39m\u001b[38;5;241m.\u001b[39mformat(\n\u001b[0;32m    841\u001b[0m             n_splits, n_candidates, n_candidates \u001b[38;5;241m*\u001b[39m n_splits\n\u001b[0;32m    842\u001b[0m         )\n\u001b[0;32m    843\u001b[0m     )\n\u001b[1;32m--> 845\u001b[0m out \u001b[38;5;241m=\u001b[39m parallel(\n\u001b[0;32m    846\u001b[0m     delayed(_fit_and_score)(\n\u001b[0;32m    847\u001b[0m         clone(base_estimator),\n\u001b[0;32m    848\u001b[0m         X,\n\u001b[0;32m    849\u001b[0m         y,\n\u001b[0;32m    850\u001b[0m         train\u001b[38;5;241m=\u001b[39mtrain,\n\u001b[0;32m    851\u001b[0m         test\u001b[38;5;241m=\u001b[39mtest,\n\u001b[0;32m    852\u001b[0m         parameters\u001b[38;5;241m=\u001b[39mparameters,\n\u001b[0;32m    853\u001b[0m         split_progress\u001b[38;5;241m=\u001b[39m(split_idx, n_splits),\n\u001b[0;32m    854\u001b[0m         candidate_progress\u001b[38;5;241m=\u001b[39m(cand_idx, n_candidates),\n\u001b[0;32m    855\u001b[0m         \u001b[38;5;241m*\u001b[39m\u001b[38;5;241m*\u001b[39mfit_and_score_kwargs,\n\u001b[0;32m    856\u001b[0m     )\n\u001b[0;32m    857\u001b[0m     \u001b[38;5;28;01mfor\u001b[39;00m (cand_idx, parameters), (split_idx, (train, test)) \u001b[38;5;129;01min\u001b[39;00m product(\n\u001b[0;32m    858\u001b[0m         \u001b[38;5;28menumerate\u001b[39m(candidate_params), \u001b[38;5;28menumerate\u001b[39m(cv\u001b[38;5;241m.\u001b[39msplit(X, y, groups))\n\u001b[0;32m    859\u001b[0m     )\n\u001b[0;32m    860\u001b[0m )\n\u001b[0;32m    862\u001b[0m \u001b[38;5;28;01mif\u001b[39;00m \u001b[38;5;28mlen\u001b[39m(out) \u001b[38;5;241m<\u001b[39m \u001b[38;5;241m1\u001b[39m:\n\u001b[0;32m    863\u001b[0m     \u001b[38;5;28;01mraise\u001b[39;00m \u001b[38;5;167;01mValueError\u001b[39;00m(\n\u001b[0;32m    864\u001b[0m         \u001b[38;5;124m\"\u001b[39m\u001b[38;5;124mNo fits were performed. \u001b[39m\u001b[38;5;124m\"\u001b[39m\n\u001b[0;32m    865\u001b[0m         \u001b[38;5;124m\"\u001b[39m\u001b[38;5;124mWas the CV iterator empty? \u001b[39m\u001b[38;5;124m\"\u001b[39m\n\u001b[0;32m    866\u001b[0m         \u001b[38;5;124m\"\u001b[39m\u001b[38;5;124mWere there no candidates?\u001b[39m\u001b[38;5;124m\"\u001b[39m\n\u001b[0;32m    867\u001b[0m     )\n",
      "File \u001b[1;32m~\\anaconda3\\Lib\\site-packages\\sklearn\\utils\\parallel.py:65\u001b[0m, in \u001b[0;36mParallel.__call__\u001b[1;34m(self, iterable)\u001b[0m\n\u001b[0;32m     60\u001b[0m config \u001b[38;5;241m=\u001b[39m get_config()\n\u001b[0;32m     61\u001b[0m iterable_with_config \u001b[38;5;241m=\u001b[39m (\n\u001b[0;32m     62\u001b[0m     (_with_config(delayed_func, config), args, kwargs)\n\u001b[0;32m     63\u001b[0m     \u001b[38;5;28;01mfor\u001b[39;00m delayed_func, args, kwargs \u001b[38;5;129;01min\u001b[39;00m iterable\n\u001b[0;32m     64\u001b[0m )\n\u001b[1;32m---> 65\u001b[0m \u001b[38;5;28;01mreturn\u001b[39;00m \u001b[38;5;28msuper\u001b[39m()\u001b[38;5;241m.\u001b[39m\u001b[38;5;21m__call__\u001b[39m(iterable_with_config)\n",
      "File \u001b[1;32m~\\anaconda3\\Lib\\site-packages\\joblib\\parallel.py:1098\u001b[0m, in \u001b[0;36mParallel.__call__\u001b[1;34m(self, iterable)\u001b[0m\n\u001b[0;32m   1095\u001b[0m     \u001b[38;5;28mself\u001b[39m\u001b[38;5;241m.\u001b[39m_iterating \u001b[38;5;241m=\u001b[39m \u001b[38;5;28;01mFalse\u001b[39;00m\n\u001b[0;32m   1097\u001b[0m \u001b[38;5;28;01mwith\u001b[39;00m \u001b[38;5;28mself\u001b[39m\u001b[38;5;241m.\u001b[39m_backend\u001b[38;5;241m.\u001b[39mretrieval_context():\n\u001b[1;32m-> 1098\u001b[0m     \u001b[38;5;28mself\u001b[39m\u001b[38;5;241m.\u001b[39mretrieve()\n\u001b[0;32m   1099\u001b[0m \u001b[38;5;66;03m# Make sure that we get a last message telling us we are done\u001b[39;00m\n\u001b[0;32m   1100\u001b[0m elapsed_time \u001b[38;5;241m=\u001b[39m time\u001b[38;5;241m.\u001b[39mtime() \u001b[38;5;241m-\u001b[39m \u001b[38;5;28mself\u001b[39m\u001b[38;5;241m.\u001b[39m_start_time\n",
      "File \u001b[1;32m~\\anaconda3\\Lib\\site-packages\\joblib\\parallel.py:975\u001b[0m, in \u001b[0;36mParallel.retrieve\u001b[1;34m(self)\u001b[0m\n\u001b[0;32m    973\u001b[0m \u001b[38;5;28;01mtry\u001b[39;00m:\n\u001b[0;32m    974\u001b[0m     \u001b[38;5;28;01mif\u001b[39;00m \u001b[38;5;28mgetattr\u001b[39m(\u001b[38;5;28mself\u001b[39m\u001b[38;5;241m.\u001b[39m_backend, \u001b[38;5;124m'\u001b[39m\u001b[38;5;124msupports_timeout\u001b[39m\u001b[38;5;124m'\u001b[39m, \u001b[38;5;28;01mFalse\u001b[39;00m):\n\u001b[1;32m--> 975\u001b[0m         \u001b[38;5;28mself\u001b[39m\u001b[38;5;241m.\u001b[39m_output\u001b[38;5;241m.\u001b[39mextend(job\u001b[38;5;241m.\u001b[39mget(timeout\u001b[38;5;241m=\u001b[39m\u001b[38;5;28mself\u001b[39m\u001b[38;5;241m.\u001b[39mtimeout))\n\u001b[0;32m    976\u001b[0m     \u001b[38;5;28;01melse\u001b[39;00m:\n\u001b[0;32m    977\u001b[0m         \u001b[38;5;28mself\u001b[39m\u001b[38;5;241m.\u001b[39m_output\u001b[38;5;241m.\u001b[39mextend(job\u001b[38;5;241m.\u001b[39mget())\n",
      "File \u001b[1;32m~\\anaconda3\\Lib\\site-packages\\joblib\\_parallel_backends.py:567\u001b[0m, in \u001b[0;36mLokyBackend.wrap_future_result\u001b[1;34m(future, timeout)\u001b[0m\n\u001b[0;32m    564\u001b[0m \u001b[38;5;250m\u001b[39m\u001b[38;5;124;03m\"\"\"Wrapper for Future.result to implement the same behaviour as\u001b[39;00m\n\u001b[0;32m    565\u001b[0m \u001b[38;5;124;03mAsyncResults.get from multiprocessing.\"\"\"\u001b[39;00m\n\u001b[0;32m    566\u001b[0m \u001b[38;5;28;01mtry\u001b[39;00m:\n\u001b[1;32m--> 567\u001b[0m     \u001b[38;5;28;01mreturn\u001b[39;00m future\u001b[38;5;241m.\u001b[39mresult(timeout\u001b[38;5;241m=\u001b[39mtimeout)\n\u001b[0;32m    568\u001b[0m \u001b[38;5;28;01mexcept\u001b[39;00m CfTimeoutError \u001b[38;5;28;01mas\u001b[39;00m e:\n\u001b[0;32m    569\u001b[0m     \u001b[38;5;28;01mraise\u001b[39;00m \u001b[38;5;167;01mTimeoutError\u001b[39;00m \u001b[38;5;28;01mfrom\u001b[39;00m \u001b[38;5;21;01me\u001b[39;00m\n",
      "File \u001b[1;32m~\\anaconda3\\Lib\\concurrent\\futures\\_base.py:451\u001b[0m, in \u001b[0;36mFuture.result\u001b[1;34m(self, timeout)\u001b[0m\n\u001b[0;32m    448\u001b[0m \u001b[38;5;28;01melif\u001b[39;00m \u001b[38;5;28mself\u001b[39m\u001b[38;5;241m.\u001b[39m_state \u001b[38;5;241m==\u001b[39m FINISHED:\n\u001b[0;32m    449\u001b[0m     \u001b[38;5;28;01mreturn\u001b[39;00m \u001b[38;5;28mself\u001b[39m\u001b[38;5;241m.\u001b[39m__get_result()\n\u001b[1;32m--> 451\u001b[0m \u001b[38;5;28mself\u001b[39m\u001b[38;5;241m.\u001b[39m_condition\u001b[38;5;241m.\u001b[39mwait(timeout)\n\u001b[0;32m    453\u001b[0m \u001b[38;5;28;01mif\u001b[39;00m \u001b[38;5;28mself\u001b[39m\u001b[38;5;241m.\u001b[39m_state \u001b[38;5;129;01min\u001b[39;00m [CANCELLED, CANCELLED_AND_NOTIFIED]:\n\u001b[0;32m    454\u001b[0m     \u001b[38;5;28;01mraise\u001b[39;00m CancelledError()\n",
      "File \u001b[1;32m~\\anaconda3\\Lib\\threading.py:320\u001b[0m, in \u001b[0;36mCondition.wait\u001b[1;34m(self, timeout)\u001b[0m\n\u001b[0;32m    318\u001b[0m \u001b[38;5;28;01mtry\u001b[39;00m:    \u001b[38;5;66;03m# restore state no matter what (e.g., KeyboardInterrupt)\u001b[39;00m\n\u001b[0;32m    319\u001b[0m     \u001b[38;5;28;01mif\u001b[39;00m timeout \u001b[38;5;129;01mis\u001b[39;00m \u001b[38;5;28;01mNone\u001b[39;00m:\n\u001b[1;32m--> 320\u001b[0m         waiter\u001b[38;5;241m.\u001b[39macquire()\n\u001b[0;32m    321\u001b[0m         gotit \u001b[38;5;241m=\u001b[39m \u001b[38;5;28;01mTrue\u001b[39;00m\n\u001b[0;32m    322\u001b[0m     \u001b[38;5;28;01melse\u001b[39;00m:\n",
      "\u001b[1;31mKeyboardInterrupt\u001b[0m: "
     ]
    }
   ],
   "source": [
    "from sklearn.ensemble import RandomForestClassifier\n",
    "from sklearn.model_selection import GridSearchCV\n",
    "from sklearn.metrics import accuracy_score, classification_report, confusion_matrix\n",
    "\n",
    "# Определяем параметры для перебора\n",
    "param_grid = {\n",
    "    'n_estimators': [10, 50, 100, 200],\n",
    "    'criterion': ['gini', 'entropy', 'log_loss'],\n",
    "    'max_depth': [None, 10, 20, 30],\n",
    "    'min_samples_split': [2, 5, 10],\n",
    "    'min_samples_leaf': [1, 2, 4]\n",
    "}\n",
    "\n",
    "# Создаем модель RandomForestClassifier\n",
    "rfc = RandomForestClassifier()\n",
    "\n",
    "# GridSearch для поиска лучших параметров\n",
    "grid_search = GridSearchCV(estimator=rfc, param_grid=param_grid, scoring='accuracy', cv=5, n_jobs=-1)\n",
    "grid_search.fit(x_train, y_train)\n",
    "\n",
    "# Лучшая модель и её параметры\n",
    "best_model = grid_search.best_estimator_\n",
    "print(\"Лучшие параметры:\", grid_search.best_params_)\n",
    "\n",
    "# Предсказание на тестовых данных\n",
    "pred = best_model.predict(x_test)\n",
    "\n",
    "# Вывод метрик\n",
    "print(f'Accuracy: {accuracy_score(y_test, pred)}')\n",
    "print(classification_report(y_test, pred))\n",
    "print(confusion_matrix(y_test, pred))\n"
   ]
  },
  {
   "cell_type": "code",
   "execution_count": null,
   "metadata": {
    "colab": {
     "base_uri": "https://localhost:8080/"
    },
    "id": "-dNdxHcJ3uF1",
    "outputId": "cad2dd17-08cd-43ed-9c93-d25afa395bb8"
   },
   "outputs": [],
   "source": [
    "from xgboost import XGBClassifier\n",
    "from sklearn.model_selection import GridSearchCV\n",
    "from sklearn.metrics import accuracy_score, classification_report, confusion_matrix\n",
    "\n",
    "# Определяем параметры для перебора\n",
    "param_grid = {\n",
    "    'n_estimators': [10, 50, 100, 200],\n",
    "    'max_depth': [None, 10, 20, 30],\n",
    "    'learning_rate': [0.01, 0.1, 0.2],\n",
    "    'subsample': [0.8, 1.0],\n",
    "    'colsample_bytree': [0.8, 1.0]\n",
    "}\n",
    "\n",
    "# Создаем модель XGBClassifier с включением GPU\n",
    "xgb = XGBClassifier(tree_method='gpu_hist', predictor='gpu_predictor')\n",
    "\n",
    "# GridSearch для поиска лучших параметров\n",
    "grid_search = GridSearchCV(estimator=xgb, param_grid=param_grid, scoring='accuracy', cv=5, n_jobs=-1)\n",
    "grid_search.fit(x_train, y_train)\n",
    "\n",
    "# Лучшая модель и её параметры\n",
    "best_model = grid_search.best_estimator_\n",
    "print(\"Лучшие параметры:\", grid_search.best_params_)\n",
    "\n",
    "# Предсказание на тестовых данных\n",
    "pred = best_model.predict(x_test)\n",
    "\n",
    "# Вывод метрик\n",
    "print(f'Accuracy: {accuracy_score(y_test, pred)}')\n",
    "print(classification_report(y_test, pred))\n",
    "print(confusion_matrix(y_test, pred))\n"
   ]
  },
  {
   "cell_type": "code",
   "execution_count": 140,
   "metadata": {
    "colab": {
     "base_uri": "https://localhost:8080/"
    },
    "id": "HQfc0SK44a1i",
    "outputId": "ffcdd957-6445-48d6-f901-6112010b6da5"
   },
   "outputs": [
    {
     "name": "stdout",
     "output_type": "stream",
     "text": [
      "{'alpha': 0.01, 'penalty': 'l1'}\n",
      "Accuracy: 0.7483405354835836\n",
      "              precision    recall  f1-score   support\n",
      "\n",
      "           0       0.00      0.00      0.00      5649\n",
      "           1       0.75      1.00      0.86     16798\n",
      "\n",
      "    accuracy                           0.75     22447\n",
      "   macro avg       0.37      0.50      0.43     22447\n",
      "weighted avg       0.56      0.75      0.64     22447\n",
      "\n",
      "[[    0  5649]\n",
      " [    0 16798]]\n"
     ]
    },
    {
     "name": "stderr",
     "output_type": "stream",
     "text": [
      "C:\\Users\\Egor\\anaconda3\\Lib\\site-packages\\sklearn\\metrics\\_classification.py:1469: UndefinedMetricWarning: Precision and F-score are ill-defined and being set to 0.0 in labels with no predicted samples. Use `zero_division` parameter to control this behavior.\n",
      "  _warn_prf(average, modifier, msg_start, len(result))\n",
      "C:\\Users\\Egor\\anaconda3\\Lib\\site-packages\\sklearn\\metrics\\_classification.py:1469: UndefinedMetricWarning: Precision and F-score are ill-defined and being set to 0.0 in labels with no predicted samples. Use `zero_division` parameter to control this behavior.\n",
      "  _warn_prf(average, modifier, msg_start, len(result))\n",
      "C:\\Users\\Egor\\anaconda3\\Lib\\site-packages\\sklearn\\metrics\\_classification.py:1469: UndefinedMetricWarning: Precision and F-score are ill-defined and being set to 0.0 in labels with no predicted samples. Use `zero_division` parameter to control this behavior.\n",
      "  _warn_prf(average, modifier, msg_start, len(result))\n"
     ]
    }
   ],
   "source": [
    "from sklearn.model_selection import GridSearchCV\n",
    "\n",
    "param_grid = {'penalty': ['l1', 'l1', 'elasticnet'], 'alpha': [0.00001, 0.0001, 0.001, 0.01]}\n",
    "\n",
    "sgdc = SGDClassifier()\n",
    "gscv = GridSearchCV(sgdc, param_grid)\n",
    "gscv.fit(x_train, y_train)\n",
    "\n",
    "print(gscv.best_params_)\n",
    "\n",
    "sgdc_best = SGDClassifier(penalty=gscv.best_params_['penalty'], alpha=gscv.best_params_['alpha'])\n",
    "sgdc_best.fit(x_train, y_train)\n",
    "pred = sgdc_best.predict(x_test)\n",
    "print(f'Accuracy: {accuracy_score(y_test, pred)}')\n",
    "print(classification_report(y_test, pred))\n",
    "print(confusion_matrix(y_test, pred))"
   ]
  },
  {
   "cell_type": "code",
   "execution_count": 141,
   "metadata": {
    "id": "UQ_dGS2z6AMa"
   },
   "outputs": [],
   "source": [
    "df_test = pd.read_csv(\"credit_test.csv\")\n",
    "df_test.drop(columns=['Customer ID'], inplace=True)"
   ]
  },
  {
   "cell_type": "code",
   "execution_count": 142,
   "metadata": {
    "colab": {
     "base_uri": "https://localhost:8080/",
     "height": 617
    },
    "id": "2YDKEobjMdGr",
    "outputId": "91d3e32f-9b1a-4a08-d2ea-ba34af603a70"
   },
   "outputs": [
    {
     "data": {
      "text/plain": [
       "Loan ID                            0\n",
       "Current Loan Amount                0\n",
       "Term                               0\n",
       "Credit Score                    1981\n",
       "Annual Income                   1981\n",
       "Years in current job             427\n",
       "Home Ownership                     0\n",
       "Purpose                            0\n",
       "Monthly Debt                       0\n",
       "Years of Credit History            0\n",
       "Months since last delinquent    5306\n",
       "Number of Open Accounts            0\n",
       "Number of Credit Problems          0\n",
       "Current Credit Balance             0\n",
       "Maximum Open Credit                0\n",
       "Bankruptcies                      22\n",
       "Tax Liens                          1\n",
       "dtype: int64"
      ]
     },
     "execution_count": 142,
     "metadata": {},
     "output_type": "execute_result"
    }
   ],
   "source": [
    "df_test.isna().sum()"
   ]
  },
  {
   "cell_type": "code",
   "execution_count": 143,
   "metadata": {
    "id": "_Yfn0Gg5MjQ8"
   },
   "outputs": [],
   "source": [
    "df_test.fillna({\n",
    "    'Credit Score': round(df_test['Credit Score'].mean()),\n",
    "    'Annual Income': round(df_test['Annual Income'].mean()),\n",
    "    'Months since last delinquent': round(df_test['Months since last delinquent'].mean()),\n",
    "    'Maximum Open Credit': round(df_test['Maximum Open Credit'].mean()),\n",
    "    'Bankruptcies': df_test['Bankruptcies'].mode()[0],\n",
    "    'Tax Liens': df_test['Tax Liens'].mode()[0],\n",
    "}, inplace=True)"
   ]
  },
  {
   "cell_type": "code",
   "execution_count": 144,
   "metadata": {
    "colab": {
     "base_uri": "https://localhost:8080/"
    },
    "id": "DM2CQ_UkMuXQ",
    "outputId": "fd081a06-d754-4ce9-976e-2aa2fe8917ea"
   },
   "outputs": [
    {
     "data": {
      "text/plain": [
       "0"
      ]
     },
     "execution_count": 144,
     "metadata": {},
     "output_type": "execute_result"
    }
   ],
   "source": [
    "df_test.duplicated().sum()"
   ]
  },
  {
   "cell_type": "code",
   "execution_count": 145,
   "metadata": {
    "colab": {
     "base_uri": "https://localhost:8080/",
     "height": 617
    },
    "id": "0tCZlKj5WbUV",
    "outputId": "de045369-2c8a-465a-b6e7-7b012e412484"
   },
   "outputs": [
    {
     "data": {
      "text/plain": [
       "Loan ID                           0\n",
       "Current Loan Amount               0\n",
       "Term                              0\n",
       "Credit Score                      0\n",
       "Annual Income                     0\n",
       "Years in current job            427\n",
       "Home Ownership                    0\n",
       "Purpose                           0\n",
       "Monthly Debt                      0\n",
       "Years of Credit History           0\n",
       "Months since last delinquent      0\n",
       "Number of Open Accounts           0\n",
       "Number of Credit Problems         0\n",
       "Current Credit Balance            0\n",
       "Maximum Open Credit               0\n",
       "Bankruptcies                      0\n",
       "Tax Liens                         0\n",
       "dtype: int64"
      ]
     },
     "execution_count": 145,
     "metadata": {},
     "output_type": "execute_result"
    }
   ],
   "source": [
    "df_test.isna().sum()"
   ]
  },
  {
   "cell_type": "code",
   "execution_count": 146,
   "metadata": {
    "colab": {
     "base_uri": "https://localhost:8080/"
    },
    "id": "Zeg6BKkQTbUV",
    "outputId": "7f406461-9155-4ada-b017-faaff425283c"
   },
   "outputs": [
    {
     "name": "stdout",
     "output_type": "stream",
     "text": [
      "<class 'pandas.core.frame.DataFrame'>\n",
      "RangeIndex: 10000 entries, 0 to 9999\n",
      "Data columns (total 17 columns):\n",
      " #   Column                        Non-Null Count  Dtype  \n",
      "---  ------                        --------------  -----  \n",
      " 0   Loan ID                       10000 non-null  object \n",
      " 1   Current Loan Amount           10000 non-null  int64  \n",
      " 2   Term                          10000 non-null  object \n",
      " 3   Credit Score                  10000 non-null  float64\n",
      " 4   Annual Income                 10000 non-null  float64\n",
      " 5   Years in current job          9573 non-null   object \n",
      " 6   Home Ownership                10000 non-null  object \n",
      " 7   Purpose                       10000 non-null  object \n",
      " 8   Monthly Debt                  10000 non-null  float64\n",
      " 9   Years of Credit History       10000 non-null  float64\n",
      " 10  Months since last delinquent  10000 non-null  float64\n",
      " 11  Number of Open Accounts       10000 non-null  int64  \n",
      " 12  Number of Credit Problems     10000 non-null  int64  \n",
      " 13  Current Credit Balance        10000 non-null  int64  \n",
      " 14  Maximum Open Credit           10000 non-null  int64  \n",
      " 15  Bankruptcies                  10000 non-null  float64\n",
      " 16  Tax Liens                     10000 non-null  float64\n",
      "dtypes: float64(7), int64(5), object(5)\n",
      "memory usage: 1.3+ MB\n"
     ]
    }
   ],
   "source": [
    "df_test.info()"
   ]
  },
  {
   "cell_type": "code",
   "execution_count": 147,
   "metadata": {
    "id": "WsHL1x0cMzAS"
   },
   "outputs": [],
   "source": [
    "loan_id = df_test['Loan ID']\n",
    "df_test.drop(columns=['Loan ID'], inplace=True)\n",
    "\n",
    "target_objects = ['Term', 'Years in current job', 'Home Ownership', 'Purpose']\n",
    "\n",
    "le = LabelEncoder()\n",
    "for target in target_objects:\n",
    "    df_test[target] = le.fit_transform(df_test[target])\n",
    "\n",
    "scaler = StandardScaler()\n",
    "df_test_scaled = pd.DataFrame(scaler.fit_transform(df_test, target_scaler))\n",
    "\n",
    "preds = sgdc_best.predict(df_test_scaled)"
   ]
  },
  {
   "cell_type": "code",
   "execution_count": 148,
   "metadata": {
    "colab": {
     "base_uri": "https://localhost:8080/",
     "height": 423
    },
    "id": "RaPSgRF3T58s",
    "outputId": "b43725f0-5d99-4c0a-9865-4693246e0985"
   },
   "outputs": [
    {
     "data": {
      "text/html": [
       "<div>\n",
       "<style scoped>\n",
       "    .dataframe tbody tr th:only-of-type {\n",
       "        vertical-align: middle;\n",
       "    }\n",
       "\n",
       "    .dataframe tbody tr th {\n",
       "        vertical-align: top;\n",
       "    }\n",
       "\n",
       "    .dataframe thead th {\n",
       "        text-align: right;\n",
       "    }\n",
       "</style>\n",
       "<table border=\"1\" class=\"dataframe\">\n",
       "  <thead>\n",
       "    <tr style=\"text-align: right;\">\n",
       "      <th></th>\n",
       "      <th>Loan ID</th>\n",
       "      <th>Loan Status</th>\n",
       "    </tr>\n",
       "  </thead>\n",
       "  <tbody>\n",
       "    <tr>\n",
       "      <th>0</th>\n",
       "      <td>f738779f-c726-40dc-92cf-689d73af533d</td>\n",
       "      <td>1</td>\n",
       "    </tr>\n",
       "    <tr>\n",
       "      <th>1</th>\n",
       "      <td>6dcc0947-164d-476c-a1de-3ae7283dde0a</td>\n",
       "      <td>1</td>\n",
       "    </tr>\n",
       "    <tr>\n",
       "      <th>2</th>\n",
       "      <td>f7744d01-894b-49c3-8777-fc6431a2cff1</td>\n",
       "      <td>1</td>\n",
       "    </tr>\n",
       "    <tr>\n",
       "      <th>3</th>\n",
       "      <td>83721ffb-b99a-4a0f-aea5-ef472a138b41</td>\n",
       "      <td>1</td>\n",
       "    </tr>\n",
       "    <tr>\n",
       "      <th>4</th>\n",
       "      <td>08f3789f-5714-4b10-929d-e1527ab5e5a3</td>\n",
       "      <td>1</td>\n",
       "    </tr>\n",
       "    <tr>\n",
       "      <th>...</th>\n",
       "      <td>...</td>\n",
       "      <td>...</td>\n",
       "    </tr>\n",
       "    <tr>\n",
       "      <th>9995</th>\n",
       "      <td>c4ab66f9-833c-43b8-879c-4f8bcb64dd14</td>\n",
       "      <td>1</td>\n",
       "    </tr>\n",
       "    <tr>\n",
       "      <th>9996</th>\n",
       "      <td>bbd3a392-01b4-4e0e-9c28-b2a4a39beac7</td>\n",
       "      <td>1</td>\n",
       "    </tr>\n",
       "    <tr>\n",
       "      <th>9997</th>\n",
       "      <td>da9870de-4280-46a3-8fc6-91cfe5bfde9d</td>\n",
       "      <td>1</td>\n",
       "    </tr>\n",
       "    <tr>\n",
       "      <th>9998</th>\n",
       "      <td>0cc8e0e0-1bc6-49d7-ad0f-0598b647458f</td>\n",
       "      <td>1</td>\n",
       "    </tr>\n",
       "    <tr>\n",
       "      <th>9999</th>\n",
       "      <td>14f94b64-26c4-48fd-b916-1388d7adcc1d</td>\n",
       "      <td>1</td>\n",
       "    </tr>\n",
       "  </tbody>\n",
       "</table>\n",
       "<p>10000 rows × 2 columns</p>\n",
       "</div>"
      ],
      "text/plain": [
       "                                   Loan ID  Loan Status\n",
       "0     f738779f-c726-40dc-92cf-689d73af533d            1\n",
       "1     6dcc0947-164d-476c-a1de-3ae7283dde0a            1\n",
       "2     f7744d01-894b-49c3-8777-fc6431a2cff1            1\n",
       "3     83721ffb-b99a-4a0f-aea5-ef472a138b41            1\n",
       "4     08f3789f-5714-4b10-929d-e1527ab5e5a3            1\n",
       "...                                    ...          ...\n",
       "9995  c4ab66f9-833c-43b8-879c-4f8bcb64dd14            1\n",
       "9996  bbd3a392-01b4-4e0e-9c28-b2a4a39beac7            1\n",
       "9997  da9870de-4280-46a3-8fc6-91cfe5bfde9d            1\n",
       "9998  0cc8e0e0-1bc6-49d7-ad0f-0598b647458f            1\n",
       "9999  14f94b64-26c4-48fd-b916-1388d7adcc1d            1\n",
       "\n",
       "[10000 rows x 2 columns]"
      ]
     },
     "execution_count": 148,
     "metadata": {},
     "output_type": "execute_result"
    }
   ],
   "source": [
    "df_test_submit = pd.DataFrame({\"Loan ID\": loan_id.values, 'Loan Status': preds})\n",
    "df_test_submit"
   ]
  },
  {
   "cell_type": "code",
   "execution_count": 149,
   "metadata": {
    "colab": {
     "base_uri": "https://localhost:8080/"
    },
    "id": "IhvRBWGkWDnr",
    "outputId": "34b2f227-bd0e-42f2-c2d4-137429b5799f"
   },
   "outputs": [],
   "source": [
    "df_test_submit['Loan Status'].replace({1: \"Fully Paid\", 0: \"Charged Off\"}, inplace=True)"
   ]
  },
  {
   "cell_type": "code",
   "execution_count": 150,
   "metadata": {
    "id": "fPa8JO-wU4kc"
   },
   "outputs": [],
   "source": [
    "df_test_submit.to_csv(\"submission.csv\", index=False)"
   ]
  }
 ],
 "metadata": {
  "colab": {
   "provenance": []
  },
  "kernelspec": {
   "display_name": "Python 3 (ipykernel)",
   "language": "python",
   "name": "python3"
  },
  "language_info": {
   "codemirror_mode": {
    "name": "ipython",
    "version": 3
   },
   "file_extension": ".py",
   "mimetype": "text/x-python",
   "name": "python",
   "nbconvert_exporter": "python",
   "pygments_lexer": "ipython3",
   "version": "3.11.4"
  }
 },
 "nbformat": 4,
 "nbformat_minor": 1
}
